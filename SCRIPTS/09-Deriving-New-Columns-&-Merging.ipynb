{
 "cells": [
  {
   "cell_type": "markdown",
   "id": "493d786f",
   "metadata": {},
   "source": [
    "# Coding Etiquette & Excel Reporting (1)\n",
    "# (Part 1 - Q 1-4)"
   ]
  },
  {
   "cell_type": "markdown",
   "id": "b7a55d42",
   "metadata": {},
   "source": [
    "## Content\n",
    "#### 1. Import libraries and data\n",
    "#### 2. Drop unnecessary columns and make new 'department' column\n",
    "#### 3. Drop PII columns (Q2)\n",
    "#### 4. Create new column 'region' (Q3)\n",
    "#### 5. Create exclusion flag for low-activity customers (Q4)\n",
    "#### 6. Export data"
   ]
  },
  {
   "cell_type": "markdown",
   "id": "493d413e",
   "metadata": {},
   "source": [
    "#### Note: After reading entire task and reviewing project brief I decided to drop all columns that are not useful for analysis and visualizations. I will also create new column 'department' with names of departments to have all necessary data in one place and to have more user-friendly visulizations later. (See section 2. for this code)"
   ]
  },
  {
   "cell_type": "markdown",
   "id": "594e15ff",
   "metadata": {},
   "source": [
    "# 1. Import libraries and data"
   ]
  },
  {
   "cell_type": "code",
   "execution_count": 1,
   "id": "ade4e4d4",
   "metadata": {},
   "outputs": [],
   "source": [
    "# Import libraries\n",
    "import pandas as pd\n",
    "import numpy as np\n",
    "import os"
   ]
  },
  {
   "cell_type": "code",
   "execution_count": 2,
   "id": "375b8f25",
   "metadata": {},
   "outputs": [],
   "source": [
    "# Create project folder path\n",
    "path = r'C:\\Users\\Lara\\Career Foundry Projects\\21-09-2023 Instacart Basket Analysis'"
   ]
  },
  {
   "cell_type": "code",
   "execution_count": 3,
   "id": "6fbc75a7",
   "metadata": {},
   "outputs": [],
   "source": [
    "# Import dataset orders_products_customers_with_dow_names.pkl\n",
    "df_ords_prods_cust = pd.read_pickle(os.path.join(path, '02 Data','Prepared Data', 'orders_products_customers_with_dow_names.pkl'))"
   ]
  },
  {
   "cell_type": "code",
   "execution_count": 4,
   "id": "c330f4d3",
   "metadata": {},
   "outputs": [],
   "source": [
    "# Import dataset departments_wrangled.csv ('index_col = False' didn't work here)\n",
    "df_dep = pd.read_csv (os.path.join (path, '02 Data','Prepared Data', 'departments_wrangled.csv'), index_col = 0)"
   ]
  },
  {
   "cell_type": "code",
   "execution_count": 5,
   "id": "77b44852",
   "metadata": {},
   "outputs": [
    {
     "data": {
      "text/html": [
       "<div>\n",
       "<style scoped>\n",
       "    .dataframe tbody tr th:only-of-type {\n",
       "        vertical-align: middle;\n",
       "    }\n",
       "\n",
       "    .dataframe tbody tr th {\n",
       "        vertical-align: top;\n",
       "    }\n",
       "\n",
       "    .dataframe thead th {\n",
       "        text-align: right;\n",
       "    }\n",
       "</style>\n",
       "<table border=\"1\" class=\"dataframe\">\n",
       "  <thead>\n",
       "    <tr style=\"text-align: right;\">\n",
       "      <th></th>\n",
       "      <th>order_id</th>\n",
       "      <th>user_id</th>\n",
       "      <th>order_number</th>\n",
       "      <th>orders_day_of_week</th>\n",
       "      <th>order_hour_of_day</th>\n",
       "      <th>days_since_prior_order</th>\n",
       "      <th>product_id</th>\n",
       "      <th>add_to_cart_order</th>\n",
       "      <th>reordered</th>\n",
       "      <th>product_name</th>\n",
       "      <th>...</th>\n",
       "      <th>median_days</th>\n",
       "      <th>order_frequency_flag</th>\n",
       "      <th>first_name</th>\n",
       "      <th>surname</th>\n",
       "      <th>gender</th>\n",
       "      <th>state</th>\n",
       "      <th>age</th>\n",
       "      <th>number_of_dependants</th>\n",
       "      <th>marital_status</th>\n",
       "      <th>income</th>\n",
       "    </tr>\n",
       "  </thead>\n",
       "  <tbody>\n",
       "    <tr>\n",
       "      <th>0</th>\n",
       "      <td>2539329</td>\n",
       "      <td>1</td>\n",
       "      <td>1</td>\n",
       "      <td>Monday</td>\n",
       "      <td>8</td>\n",
       "      <td>NaN</td>\n",
       "      <td>196</td>\n",
       "      <td>1</td>\n",
       "      <td>0</td>\n",
       "      <td>Soda</td>\n",
       "      <td>...</td>\n",
       "      <td>20.5</td>\n",
       "      <td>Non-frequent customer</td>\n",
       "      <td>Linda</td>\n",
       "      <td>Nguyen</td>\n",
       "      <td>Female</td>\n",
       "      <td>Alabama</td>\n",
       "      <td>31</td>\n",
       "      <td>3</td>\n",
       "      <td>married</td>\n",
       "      <td>40423</td>\n",
       "    </tr>\n",
       "    <tr>\n",
       "      <th>1</th>\n",
       "      <td>2398795</td>\n",
       "      <td>1</td>\n",
       "      <td>2</td>\n",
       "      <td>Tuesday</td>\n",
       "      <td>7</td>\n",
       "      <td>15.0</td>\n",
       "      <td>196</td>\n",
       "      <td>1</td>\n",
       "      <td>1</td>\n",
       "      <td>Soda</td>\n",
       "      <td>...</td>\n",
       "      <td>20.5</td>\n",
       "      <td>Non-frequent customer</td>\n",
       "      <td>Linda</td>\n",
       "      <td>Nguyen</td>\n",
       "      <td>Female</td>\n",
       "      <td>Alabama</td>\n",
       "      <td>31</td>\n",
       "      <td>3</td>\n",
       "      <td>married</td>\n",
       "      <td>40423</td>\n",
       "    </tr>\n",
       "    <tr>\n",
       "      <th>2</th>\n",
       "      <td>473747</td>\n",
       "      <td>1</td>\n",
       "      <td>3</td>\n",
       "      <td>Tuesday</td>\n",
       "      <td>12</td>\n",
       "      <td>21.0</td>\n",
       "      <td>196</td>\n",
       "      <td>1</td>\n",
       "      <td>1</td>\n",
       "      <td>Soda</td>\n",
       "      <td>...</td>\n",
       "      <td>20.5</td>\n",
       "      <td>Non-frequent customer</td>\n",
       "      <td>Linda</td>\n",
       "      <td>Nguyen</td>\n",
       "      <td>Female</td>\n",
       "      <td>Alabama</td>\n",
       "      <td>31</td>\n",
       "      <td>3</td>\n",
       "      <td>married</td>\n",
       "      <td>40423</td>\n",
       "    </tr>\n",
       "    <tr>\n",
       "      <th>3</th>\n",
       "      <td>2254736</td>\n",
       "      <td>1</td>\n",
       "      <td>4</td>\n",
       "      <td>Wednesday</td>\n",
       "      <td>7</td>\n",
       "      <td>29.0</td>\n",
       "      <td>196</td>\n",
       "      <td>1</td>\n",
       "      <td>1</td>\n",
       "      <td>Soda</td>\n",
       "      <td>...</td>\n",
       "      <td>20.5</td>\n",
       "      <td>Non-frequent customer</td>\n",
       "      <td>Linda</td>\n",
       "      <td>Nguyen</td>\n",
       "      <td>Female</td>\n",
       "      <td>Alabama</td>\n",
       "      <td>31</td>\n",
       "      <td>3</td>\n",
       "      <td>married</td>\n",
       "      <td>40423</td>\n",
       "    </tr>\n",
       "    <tr>\n",
       "      <th>4</th>\n",
       "      <td>431534</td>\n",
       "      <td>1</td>\n",
       "      <td>5</td>\n",
       "      <td>Wednesday</td>\n",
       "      <td>15</td>\n",
       "      <td>28.0</td>\n",
       "      <td>196</td>\n",
       "      <td>1</td>\n",
       "      <td>1</td>\n",
       "      <td>Soda</td>\n",
       "      <td>...</td>\n",
       "      <td>20.5</td>\n",
       "      <td>Non-frequent customer</td>\n",
       "      <td>Linda</td>\n",
       "      <td>Nguyen</td>\n",
       "      <td>Female</td>\n",
       "      <td>Alabama</td>\n",
       "      <td>31</td>\n",
       "      <td>3</td>\n",
       "      <td>married</td>\n",
       "      <td>40423</td>\n",
       "    </tr>\n",
       "  </tbody>\n",
       "</table>\n",
       "<p>5 rows × 30 columns</p>\n",
       "</div>"
      ],
      "text/plain": [
       "   order_id  user_id  order_number orders_day_of_week  order_hour_of_day  \\\n",
       "0   2539329        1             1             Monday                  8   \n",
       "1   2398795        1             2            Tuesday                  7   \n",
       "2    473747        1             3            Tuesday                 12   \n",
       "3   2254736        1             4          Wednesday                  7   \n",
       "4    431534        1             5          Wednesday                 15   \n",
       "\n",
       "   days_since_prior_order  product_id  add_to_cart_order  reordered  \\\n",
       "0                     NaN         196                  1          0   \n",
       "1                    15.0         196                  1          1   \n",
       "2                    21.0         196                  1          1   \n",
       "3                    29.0         196                  1          1   \n",
       "4                    28.0         196                  1          1   \n",
       "\n",
       "  product_name  ...  median_days   order_frequency_flag  first_name surname  \\\n",
       "0         Soda  ...         20.5  Non-frequent customer       Linda  Nguyen   \n",
       "1         Soda  ...         20.5  Non-frequent customer       Linda  Nguyen   \n",
       "2         Soda  ...         20.5  Non-frequent customer       Linda  Nguyen   \n",
       "3         Soda  ...         20.5  Non-frequent customer       Linda  Nguyen   \n",
       "4         Soda  ...         20.5  Non-frequent customer       Linda  Nguyen   \n",
       "\n",
       "   gender    state  age number_of_dependants  marital_status income  \n",
       "0  Female  Alabama   31                    3         married  40423  \n",
       "1  Female  Alabama   31                    3         married  40423  \n",
       "2  Female  Alabama   31                    3         married  40423  \n",
       "3  Female  Alabama   31                    3         married  40423  \n",
       "4  Female  Alabama   31                    3         married  40423  \n",
       "\n",
       "[5 rows x 30 columns]"
      ]
     },
     "execution_count": 5,
     "metadata": {},
     "output_type": "execute_result"
    }
   ],
   "source": [
    "# Check head() and info() for df_ords_prods_cust\n",
    "df_ords_prods_cust.head()"
   ]
  },
  {
   "cell_type": "code",
   "execution_count": 6,
   "id": "1c3db9ab",
   "metadata": {},
   "outputs": [
    {
     "name": "stdout",
     "output_type": "stream",
     "text": [
      "<class 'pandas.core.frame.DataFrame'>\n",
      "RangeIndex: 32434212 entries, 0 to 32434211\n",
      "Data columns (total 30 columns):\n",
      " #   Column                  Dtype  \n",
      "---  ------                  -----  \n",
      " 0   order_id                int32  \n",
      " 1   user_id                 int32  \n",
      " 2   order_number            int16  \n",
      " 3   orders_day_of_week      object \n",
      " 4   order_hour_of_day       int8   \n",
      " 5   days_since_prior_order  float32\n",
      " 6   product_id              int32  \n",
      " 7   add_to_cart_order       int16  \n",
      " 8   reordered               int8   \n",
      " 9   product_name            object \n",
      " 10  aisle_id                int16  \n",
      " 11  department_id           int8   \n",
      " 12  prices                  float32\n",
      " 13  price_range             object \n",
      " 14  busiest_days            object \n",
      " 15  busiest_period_of_day   object \n",
      " 16  max_order               int16  \n",
      " 17  loyalty_flag            object \n",
      " 18  mean_price              float32\n",
      " 19  spending_flag           object \n",
      " 20  median_days             float32\n",
      " 21  order_frequency_flag    object \n",
      " 22  first_name              object \n",
      " 23  surname                 object \n",
      " 24  gender                  object \n",
      " 25  state                   object \n",
      " 26  age                     int8   \n",
      " 27  number_of_dependants    int8   \n",
      " 28  marital_status          object \n",
      " 29  income                  int32  \n",
      "dtypes: float32(4), int16(4), int32(4), int8(5), object(13)\n",
      "memory usage: 4.5+ GB\n"
     ]
    }
   ],
   "source": [
    "df_ords_prods_cust.info()"
   ]
  },
  {
   "cell_type": "code",
   "execution_count": 7,
   "id": "f9e0eb23",
   "metadata": {},
   "outputs": [
    {
     "data": {
      "text/html": [
       "<div>\n",
       "<style scoped>\n",
       "    .dataframe tbody tr th:only-of-type {\n",
       "        vertical-align: middle;\n",
       "    }\n",
       "\n",
       "    .dataframe tbody tr th {\n",
       "        vertical-align: top;\n",
       "    }\n",
       "\n",
       "    .dataframe thead th {\n",
       "        text-align: right;\n",
       "    }\n",
       "</style>\n",
       "<table border=\"1\" class=\"dataframe\">\n",
       "  <thead>\n",
       "    <tr style=\"text-align: right;\">\n",
       "      <th></th>\n",
       "      <th>department</th>\n",
       "    </tr>\n",
       "  </thead>\n",
       "  <tbody>\n",
       "    <tr>\n",
       "      <th>1</th>\n",
       "      <td>frozen</td>\n",
       "    </tr>\n",
       "    <tr>\n",
       "      <th>2</th>\n",
       "      <td>other</td>\n",
       "    </tr>\n",
       "    <tr>\n",
       "      <th>3</th>\n",
       "      <td>bakery</td>\n",
       "    </tr>\n",
       "    <tr>\n",
       "      <th>4</th>\n",
       "      <td>produce</td>\n",
       "    </tr>\n",
       "    <tr>\n",
       "      <th>5</th>\n",
       "      <td>alcohol</td>\n",
       "    </tr>\n",
       "    <tr>\n",
       "      <th>6</th>\n",
       "      <td>international</td>\n",
       "    </tr>\n",
       "    <tr>\n",
       "      <th>7</th>\n",
       "      <td>beverages</td>\n",
       "    </tr>\n",
       "    <tr>\n",
       "      <th>8</th>\n",
       "      <td>pets</td>\n",
       "    </tr>\n",
       "    <tr>\n",
       "      <th>9</th>\n",
       "      <td>dry goods pasta</td>\n",
       "    </tr>\n",
       "    <tr>\n",
       "      <th>10</th>\n",
       "      <td>bulk</td>\n",
       "    </tr>\n",
       "    <tr>\n",
       "      <th>11</th>\n",
       "      <td>personal care</td>\n",
       "    </tr>\n",
       "    <tr>\n",
       "      <th>12</th>\n",
       "      <td>meat seafood</td>\n",
       "    </tr>\n",
       "    <tr>\n",
       "      <th>13</th>\n",
       "      <td>pantry</td>\n",
       "    </tr>\n",
       "    <tr>\n",
       "      <th>14</th>\n",
       "      <td>breakfast</td>\n",
       "    </tr>\n",
       "    <tr>\n",
       "      <th>15</th>\n",
       "      <td>canned goods</td>\n",
       "    </tr>\n",
       "    <tr>\n",
       "      <th>16</th>\n",
       "      <td>dairy eggs</td>\n",
       "    </tr>\n",
       "    <tr>\n",
       "      <th>17</th>\n",
       "      <td>household</td>\n",
       "    </tr>\n",
       "    <tr>\n",
       "      <th>18</th>\n",
       "      <td>babies</td>\n",
       "    </tr>\n",
       "    <tr>\n",
       "      <th>19</th>\n",
       "      <td>snacks</td>\n",
       "    </tr>\n",
       "    <tr>\n",
       "      <th>20</th>\n",
       "      <td>deli</td>\n",
       "    </tr>\n",
       "    <tr>\n",
       "      <th>21</th>\n",
       "      <td>missing</td>\n",
       "    </tr>\n",
       "  </tbody>\n",
       "</table>\n",
       "</div>"
      ],
      "text/plain": [
       "         department\n",
       "1            frozen\n",
       "2             other\n",
       "3            bakery\n",
       "4           produce\n",
       "5           alcohol\n",
       "6     international\n",
       "7         beverages\n",
       "8              pets\n",
       "9   dry goods pasta\n",
       "10             bulk\n",
       "11    personal care\n",
       "12     meat seafood\n",
       "13           pantry\n",
       "14        breakfast\n",
       "15     canned goods\n",
       "16       dairy eggs\n",
       "17        household\n",
       "18           babies\n",
       "19           snacks\n",
       "20             deli\n",
       "21          missing"
      ]
     },
     "execution_count": 7,
     "metadata": {},
     "output_type": "execute_result"
    }
   ],
   "source": [
    "# Print all departments\n",
    "df_dep"
   ]
  },
  {
   "cell_type": "code",
   "execution_count": 8,
   "id": "56391fc9",
   "metadata": {},
   "outputs": [
    {
     "data": {
      "text/plain": [
       "department_id\n",
       "1     2236432\n",
       "2       36291\n",
       "3     1176787\n",
       "4     9479291\n",
       "5      153743\n",
       "6      269253\n",
       "7     2688159\n",
       "8       97724\n",
       "9      866627\n",
       "10      34573\n",
       "11     447691\n",
       "12     708931\n",
       "13    1875577\n",
       "14     710647\n",
       "15    1068058\n",
       "16    5414016\n",
       "17     738666\n",
       "18     423802\n",
       "19    2887550\n",
       "20    1051249\n",
       "21      69145\n",
       "Name: count, dtype: int64"
      ]
     },
     "execution_count": 8,
     "metadata": {},
     "output_type": "execute_result"
    }
   ],
   "source": [
    "# Check all department_id\n",
    "df_ords_prods_cust['department_id'].value_counts().sort_index()"
   ]
  },
  {
   "cell_type": "markdown",
   "id": "8f7d66fc",
   "metadata": {},
   "source": [
    "# 2. Drop unnecessary columns and make new 'department' column"
   ]
  },
  {
   "cell_type": "code",
   "execution_count": 9,
   "id": "8f24c072",
   "metadata": {},
   "outputs": [],
   "source": [
    "# Drop unnecessary columns\n",
    "df_ords_prods_cust = df_ords_prods_cust.drop (columns = ['add_to_cart_order', 'reordered', 'aisle_id'])"
   ]
  },
  {
   "cell_type": "code",
   "execution_count": 10,
   "id": "1f3e03b4",
   "metadata": {},
   "outputs": [
    {
     "data": {
      "text/plain": [
       "(32434212, 27)"
      ]
     },
     "execution_count": 10,
     "metadata": {},
     "output_type": "execute_result"
    }
   ],
   "source": [
    "# Check shape\n",
    "df_ords_prods_cust.shape"
   ]
  },
  {
   "cell_type": "code",
   "execution_count": 11,
   "id": "7c4207e7",
   "metadata": {},
   "outputs": [],
   "source": [
    "# Make data dictionary out of df_dep to use for creation of new column\n",
    "data_dict = df_dep.to_dict('index')"
   ]
  },
  {
   "cell_type": "code",
   "execution_count": 12,
   "id": "ce024998",
   "metadata": {},
   "outputs": [
    {
     "data": {
      "text/plain": [
       "{1: {'department': 'frozen'},\n",
       " 2: {'department': 'other'},\n",
       " 3: {'department': 'bakery'},\n",
       " 4: {'department': 'produce'},\n",
       " 5: {'department': 'alcohol'},\n",
       " 6: {'department': 'international'},\n",
       " 7: {'department': 'beverages'},\n",
       " 8: {'department': 'pets'},\n",
       " 9: {'department': 'dry goods pasta'},\n",
       " 10: {'department': 'bulk'},\n",
       " 11: {'department': 'personal care'},\n",
       " 12: {'department': 'meat seafood'},\n",
       " 13: {'department': 'pantry'},\n",
       " 14: {'department': 'breakfast'},\n",
       " 15: {'department': 'canned goods'},\n",
       " 16: {'department': 'dairy eggs'},\n",
       " 17: {'department': 'household'},\n",
       " 18: {'department': 'babies'},\n",
       " 19: {'department': 'snacks'},\n",
       " 20: {'department': 'deli'},\n",
       " 21: {'department': 'missing'}}"
      ]
     },
     "execution_count": 12,
     "metadata": {},
     "output_type": "execute_result"
    }
   ],
   "source": [
    "# Check dictionary\n",
    "data_dict"
   ]
  },
  {
   "cell_type": "code",
   "execution_count": 13,
   "id": "1f9e8be6",
   "metadata": {},
   "outputs": [],
   "source": [
    "# Create 'dictionary' from the output above\n",
    "dictionary = {1:'frozen', 2:'other', 3:'bakery', 4:'produce',5:'alcohol', 6:'international', 7:'beverages', 8:'pets',\n",
    "              9:'dry goods pasta', 10:'bulk', 11:'personal care', 12:'meat seafood', 13:'pantry', 14:'breakfast',\n",
    "              15:'canned goods', 16:'dairy eggs', 17:'household', 18:'babies', 19:'snacks', 20:'deli', 21:'missing'}"
   ]
  },
  {
   "cell_type": "code",
   "execution_count": 14,
   "id": "634ffd5b",
   "metadata": {},
   "outputs": [],
   "source": [
    "# Make a new column 'department' using 'dictionary'\n",
    "df_ords_prods_cust['department'] = df_ords_prods_cust['department_id'].map(dictionary)"
   ]
  },
  {
   "cell_type": "code",
   "execution_count": 15,
   "id": "15b998cb",
   "metadata": {},
   "outputs": [
    {
     "data": {
      "text/plain": [
       "(32434212, 28)"
      ]
     },
     "execution_count": 15,
     "metadata": {},
     "output_type": "execute_result"
    }
   ],
   "source": [
    "# Check shape\n",
    "df_ords_prods_cust.shape"
   ]
  },
  {
   "cell_type": "code",
   "execution_count": 16,
   "id": "3fa43286",
   "metadata": {},
   "outputs": [
    {
     "data": {
      "text/plain": [
       "department\n",
       "alcohol             153743\n",
       "babies              423802\n",
       "bakery             1176787\n",
       "beverages          2688159\n",
       "breakfast           710647\n",
       "bulk                 34573\n",
       "canned goods       1068058\n",
       "dairy eggs         5414016\n",
       "deli               1051249\n",
       "dry goods pasta     866627\n",
       "frozen             2236432\n",
       "household           738666\n",
       "international       269253\n",
       "meat seafood        708931\n",
       "missing              69145\n",
       "other                36291\n",
       "pantry             1875577\n",
       "personal care       447691\n",
       "pets                 97724\n",
       "produce            9479291\n",
       "snacks             2887550\n",
       "Name: count, dtype: int64"
      ]
     },
     "execution_count": 16,
     "metadata": {},
     "output_type": "execute_result"
    }
   ],
   "source": [
    "# Check values in new column\n",
    "df_ords_prods_cust['department'].value_counts().sort_index()"
   ]
  },
  {
   "cell_type": "code",
   "execution_count": 17,
   "id": "b8de90e5",
   "metadata": {},
   "outputs": [],
   "source": [
    "# Drop column 'department_id' and make new dataframe (to indicate that all data is in it)\n",
    "df_all = df_ords_prods_cust.drop (columns = ['department_id'])"
   ]
  },
  {
   "cell_type": "code",
   "execution_count": 18,
   "id": "3e80a366",
   "metadata": {},
   "outputs": [
    {
     "data": {
      "text/plain": [
       "(32434212, 27)"
      ]
     },
     "execution_count": 18,
     "metadata": {},
     "output_type": "execute_result"
    }
   ],
   "source": [
    "# Check shape\n",
    "df_all.shape"
   ]
  },
  {
   "cell_type": "markdown",
   "id": "5f3913be",
   "metadata": {},
   "source": [
    "# 3. Drop PII columns"
   ]
  },
  {
   "cell_type": "markdown",
   "id": "a5c7576e",
   "metadata": {},
   "source": [
    "#### Columns 'first_name' and 'surname' need to be dropped because they contain personally identifiable information (PII)."
   ]
  },
  {
   "cell_type": "code",
   "execution_count": 19,
   "id": "20c8a3e2",
   "metadata": {},
   "outputs": [],
   "source": [
    "# Drop column 'first_name' and 'surname'\n",
    "df_all = df_all.drop (columns = ['first_name', 'surname'])"
   ]
  },
  {
   "cell_type": "code",
   "execution_count": 20,
   "id": "70c91f37",
   "metadata": {},
   "outputs": [
    {
     "data": {
      "text/plain": [
       "(32434212, 25)"
      ]
     },
     "execution_count": 20,
     "metadata": {},
     "output_type": "execute_result"
    }
   ],
   "source": [
    "# Check shape\n",
    "df_all.shape"
   ]
  },
  {
   "cell_type": "markdown",
   "id": "0dd45e96",
   "metadata": {},
   "source": [
    "# 4. Create new column 'region'"
   ]
  },
  {
   "cell_type": "markdown",
   "id": "130f397b",
   "metadata": {},
   "source": [
    "#### Create regional segmentation of the data.\n",
    "#### Information from this page was used to create values for this column: https://simple.wikipedia.org/wiki/List_of_regions_of_the_United_States"
   ]
  },
  {
   "cell_type": "code",
   "execution_count": 21,
   "id": "da8bd7a6",
   "metadata": {},
   "outputs": [],
   "source": [
    "# Create 4 list of States for 4 regions\n",
    "Northeast = ['Maine', 'New Hampshire', 'Vermont', 'Massachusetts', 'Rhode Island', 'Connecticut', 'New York', 'Pennsylvania', 'New Jersey']\n",
    "Midwest = ['Wisconsin', 'Michigan', 'Illinois', 'Indiana', 'Ohio', 'North Dakota', 'South Dakota', 'Nebraska', 'Kansas', 'Minnesota', 'Iowa', 'Missouri']\n",
    "South = ['Delaware', 'Maryland', 'District of Columbia', 'Virginia', 'West Virginia', 'North Carolina', 'South Carolina', 'Georgia', 'Florida', 'Kentucky', 'Tennessee', 'Mississippi', 'Alabama', 'Oklahoma', 'Texas', 'Arkansas', 'Louisiana']\n",
    "West = ['Idaho', 'Montana', 'Wyoming', 'Nevada', 'Utah', 'Colorado', 'Arizona', 'New Mexico', 'Alaska', 'Washington', 'Oregon', 'California', 'Hawaii']"
   ]
  },
  {
   "cell_type": "code",
   "execution_count": 22,
   "id": "d723c064",
   "metadata": {},
   "outputs": [],
   "source": [
    "# Create new column 'region' with 4 values named after lists made above\n",
    "df_all.loc[df_all['state'].isin(Northeast), 'region'] = 'Northeast'"
   ]
  },
  {
   "cell_type": "code",
   "execution_count": 23,
   "id": "a12951c7",
   "metadata": {},
   "outputs": [],
   "source": [
    "df_all.loc[df_all['state'].isin(Midwest), 'region'] = 'Midwest'"
   ]
  },
  {
   "cell_type": "code",
   "execution_count": 24,
   "id": "b43bf6f6",
   "metadata": {},
   "outputs": [],
   "source": [
    "df_all.loc[df_all['state'].isin(South), 'region'] = 'South'"
   ]
  },
  {
   "cell_type": "code",
   "execution_count": 25,
   "id": "307c1e4c",
   "metadata": {},
   "outputs": [],
   "source": [
    "df_all.loc[df_all['state'].isin(West), 'region'] = 'West'"
   ]
  },
  {
   "cell_type": "code",
   "execution_count": 26,
   "id": "1b358cb0",
   "metadata": {},
   "outputs": [
    {
     "data": {
      "text/plain": [
       "region\n",
       "South        10801610\n",
       "West          8300445\n",
       "Midwest       7603810\n",
       "Northeast     5728347\n",
       "Name: count, dtype: int64"
      ]
     },
     "execution_count": 26,
     "metadata": {},
     "output_type": "execute_result"
    }
   ],
   "source": [
    "# Check row counts per region\n",
    "df_all['region'].value_counts(dropna = False)"
   ]
  },
  {
   "cell_type": "markdown",
   "id": "a5444ced",
   "metadata": {},
   "source": [
    "#### Determine whether there’s a difference in spending habits between the different U.S. regions."
   ]
  },
  {
   "cell_type": "code",
   "execution_count": 27,
   "id": "28481e6f",
   "metadata": {},
   "outputs": [],
   "source": [
    "# Create crosstab\n",
    "crosstab = pd.crosstab(df_all['region'], df_all['spending_flag'], dropna = False)"
   ]
  },
  {
   "cell_type": "code",
   "execution_count": 28,
   "id": "8562ee1d",
   "metadata": {},
   "outputs": [
    {
     "data": {
      "text/html": [
       "<div>\n",
       "<style scoped>\n",
       "    .dataframe tbody tr th:only-of-type {\n",
       "        vertical-align: middle;\n",
       "    }\n",
       "\n",
       "    .dataframe tbody tr th {\n",
       "        vertical-align: top;\n",
       "    }\n",
       "\n",
       "    .dataframe thead th {\n",
       "        text-align: right;\n",
       "    }\n",
       "</style>\n",
       "<table border=\"1\" class=\"dataframe\">\n",
       "  <thead>\n",
       "    <tr style=\"text-align: right;\">\n",
       "      <th>spending_flag</th>\n",
       "      <th>High spender</th>\n",
       "      <th>Low spender</th>\n",
       "    </tr>\n",
       "    <tr>\n",
       "      <th>region</th>\n",
       "      <th></th>\n",
       "      <th></th>\n",
       "    </tr>\n",
       "  </thead>\n",
       "  <tbody>\n",
       "    <tr>\n",
       "      <th>Midwest</th>\n",
       "      <td>29344</td>\n",
       "      <td>7574466</td>\n",
       "    </tr>\n",
       "    <tr>\n",
       "      <th>Northeast</th>\n",
       "      <td>18735</td>\n",
       "      <td>5709612</td>\n",
       "    </tr>\n",
       "    <tr>\n",
       "      <th>South</th>\n",
       "      <td>40990</td>\n",
       "      <td>10760620</td>\n",
       "    </tr>\n",
       "    <tr>\n",
       "      <th>West</th>\n",
       "      <td>31651</td>\n",
       "      <td>8268794</td>\n",
       "    </tr>\n",
       "  </tbody>\n",
       "</table>\n",
       "</div>"
      ],
      "text/plain": [
       "spending_flag  High spender  Low spender\n",
       "region                                  \n",
       "Midwest               29344      7574466\n",
       "Northeast             18735      5709612\n",
       "South                 40990     10760620\n",
       "West                  31651      8268794"
      ]
     },
     "execution_count": 28,
     "metadata": {},
     "output_type": "execute_result"
    }
   ],
   "source": [
    "# Check output\n",
    "crosstab"
   ]
  },
  {
   "cell_type": "code",
   "execution_count": 29,
   "id": "6333a8fd",
   "metadata": {},
   "outputs": [],
   "source": [
    "crosstab.to_clipboard()"
   ]
  },
  {
   "cell_type": "markdown",
   "id": "bcf085b9",
   "metadata": {},
   "source": [
    "#### Conclusion: Majority of Low spending users are from South and least of them come from Northeast region, by half compared to South. West and Midwest region have about the same proportion of users. The same goes for High spending users. \n",
    "#### This table can be found in Excel file Final report"
   ]
  },
  {
   "cell_type": "markdown",
   "id": "e4dac4cc",
   "metadata": {},
   "source": [
    "# 5. Create exclusion flag for low-activity customers"
   ]
  },
  {
   "cell_type": "markdown",
   "id": "6941eab5",
   "metadata": {},
   "source": [
    "#### Create an exclusion flag for low-activity customers (customers with less than 5 orders), exclude them from the data and export this sample."
   ]
  },
  {
   "cell_type": "code",
   "execution_count": 30,
   "id": "0dc713e2",
   "metadata": {},
   "outputs": [],
   "source": [
    "# Create new column \"activity-flag\" based on their maximum order count\n",
    "df_all.loc[df_all['max_order'] < 5, 'activity_flag'] = 'Low-activity customer'"
   ]
  },
  {
   "cell_type": "code",
   "execution_count": 31,
   "id": "1055201d",
   "metadata": {},
   "outputs": [],
   "source": [
    "df_all.loc[df_all['max_order'] >= 5, 'activity_flag'] = 'High-activity customer'"
   ]
  },
  {
   "cell_type": "code",
   "execution_count": 32,
   "id": "7d4e366b",
   "metadata": {},
   "outputs": [
    {
     "data": {
      "text/html": [
       "<div>\n",
       "<style scoped>\n",
       "    .dataframe tbody tr th:only-of-type {\n",
       "        vertical-align: middle;\n",
       "    }\n",
       "\n",
       "    .dataframe tbody tr th {\n",
       "        vertical-align: top;\n",
       "    }\n",
       "\n",
       "    .dataframe thead th {\n",
       "        text-align: right;\n",
       "    }\n",
       "</style>\n",
       "<table border=\"1\" class=\"dataframe\">\n",
       "  <thead>\n",
       "    <tr style=\"text-align: right;\">\n",
       "      <th></th>\n",
       "      <th>order_id</th>\n",
       "      <th>user_id</th>\n",
       "      <th>order_number</th>\n",
       "      <th>orders_day_of_week</th>\n",
       "      <th>order_hour_of_day</th>\n",
       "      <th>days_since_prior_order</th>\n",
       "      <th>product_id</th>\n",
       "      <th>product_name</th>\n",
       "      <th>prices</th>\n",
       "      <th>price_range</th>\n",
       "      <th>...</th>\n",
       "      <th>order_frequency_flag</th>\n",
       "      <th>gender</th>\n",
       "      <th>state</th>\n",
       "      <th>age</th>\n",
       "      <th>number_of_dependants</th>\n",
       "      <th>marital_status</th>\n",
       "      <th>income</th>\n",
       "      <th>department</th>\n",
       "      <th>region</th>\n",
       "      <th>activity_flag</th>\n",
       "    </tr>\n",
       "  </thead>\n",
       "  <tbody>\n",
       "    <tr>\n",
       "      <th>0</th>\n",
       "      <td>2539329</td>\n",
       "      <td>1</td>\n",
       "      <td>1</td>\n",
       "      <td>Monday</td>\n",
       "      <td>8</td>\n",
       "      <td>NaN</td>\n",
       "      <td>196</td>\n",
       "      <td>Soda</td>\n",
       "      <td>9.0</td>\n",
       "      <td>Mid-range product</td>\n",
       "      <td>...</td>\n",
       "      <td>Non-frequent customer</td>\n",
       "      <td>Female</td>\n",
       "      <td>Alabama</td>\n",
       "      <td>31</td>\n",
       "      <td>3</td>\n",
       "      <td>married</td>\n",
       "      <td>40423</td>\n",
       "      <td>beverages</td>\n",
       "      <td>South</td>\n",
       "      <td>High-activity customer</td>\n",
       "    </tr>\n",
       "    <tr>\n",
       "      <th>1</th>\n",
       "      <td>2398795</td>\n",
       "      <td>1</td>\n",
       "      <td>2</td>\n",
       "      <td>Tuesday</td>\n",
       "      <td>7</td>\n",
       "      <td>15.0</td>\n",
       "      <td>196</td>\n",
       "      <td>Soda</td>\n",
       "      <td>9.0</td>\n",
       "      <td>Mid-range product</td>\n",
       "      <td>...</td>\n",
       "      <td>Non-frequent customer</td>\n",
       "      <td>Female</td>\n",
       "      <td>Alabama</td>\n",
       "      <td>31</td>\n",
       "      <td>3</td>\n",
       "      <td>married</td>\n",
       "      <td>40423</td>\n",
       "      <td>beverages</td>\n",
       "      <td>South</td>\n",
       "      <td>High-activity customer</td>\n",
       "    </tr>\n",
       "    <tr>\n",
       "      <th>2</th>\n",
       "      <td>473747</td>\n",
       "      <td>1</td>\n",
       "      <td>3</td>\n",
       "      <td>Tuesday</td>\n",
       "      <td>12</td>\n",
       "      <td>21.0</td>\n",
       "      <td>196</td>\n",
       "      <td>Soda</td>\n",
       "      <td>9.0</td>\n",
       "      <td>Mid-range product</td>\n",
       "      <td>...</td>\n",
       "      <td>Non-frequent customer</td>\n",
       "      <td>Female</td>\n",
       "      <td>Alabama</td>\n",
       "      <td>31</td>\n",
       "      <td>3</td>\n",
       "      <td>married</td>\n",
       "      <td>40423</td>\n",
       "      <td>beverages</td>\n",
       "      <td>South</td>\n",
       "      <td>High-activity customer</td>\n",
       "    </tr>\n",
       "    <tr>\n",
       "      <th>3</th>\n",
       "      <td>2254736</td>\n",
       "      <td>1</td>\n",
       "      <td>4</td>\n",
       "      <td>Wednesday</td>\n",
       "      <td>7</td>\n",
       "      <td>29.0</td>\n",
       "      <td>196</td>\n",
       "      <td>Soda</td>\n",
       "      <td>9.0</td>\n",
       "      <td>Mid-range product</td>\n",
       "      <td>...</td>\n",
       "      <td>Non-frequent customer</td>\n",
       "      <td>Female</td>\n",
       "      <td>Alabama</td>\n",
       "      <td>31</td>\n",
       "      <td>3</td>\n",
       "      <td>married</td>\n",
       "      <td>40423</td>\n",
       "      <td>beverages</td>\n",
       "      <td>South</td>\n",
       "      <td>High-activity customer</td>\n",
       "    </tr>\n",
       "    <tr>\n",
       "      <th>4</th>\n",
       "      <td>431534</td>\n",
       "      <td>1</td>\n",
       "      <td>5</td>\n",
       "      <td>Wednesday</td>\n",
       "      <td>15</td>\n",
       "      <td>28.0</td>\n",
       "      <td>196</td>\n",
       "      <td>Soda</td>\n",
       "      <td>9.0</td>\n",
       "      <td>Mid-range product</td>\n",
       "      <td>...</td>\n",
       "      <td>Non-frequent customer</td>\n",
       "      <td>Female</td>\n",
       "      <td>Alabama</td>\n",
       "      <td>31</td>\n",
       "      <td>3</td>\n",
       "      <td>married</td>\n",
       "      <td>40423</td>\n",
       "      <td>beverages</td>\n",
       "      <td>South</td>\n",
       "      <td>High-activity customer</td>\n",
       "    </tr>\n",
       "  </tbody>\n",
       "</table>\n",
       "<p>5 rows × 27 columns</p>\n",
       "</div>"
      ],
      "text/plain": [
       "   order_id  user_id  order_number orders_day_of_week  order_hour_of_day  \\\n",
       "0   2539329        1             1             Monday                  8   \n",
       "1   2398795        1             2            Tuesday                  7   \n",
       "2    473747        1             3            Tuesday                 12   \n",
       "3   2254736        1             4          Wednesday                  7   \n",
       "4    431534        1             5          Wednesday                 15   \n",
       "\n",
       "   days_since_prior_order  product_id product_name  prices        price_range  \\\n",
       "0                     NaN         196         Soda     9.0  Mid-range product   \n",
       "1                    15.0         196         Soda     9.0  Mid-range product   \n",
       "2                    21.0         196         Soda     9.0  Mid-range product   \n",
       "3                    29.0         196         Soda     9.0  Mid-range product   \n",
       "4                    28.0         196         Soda     9.0  Mid-range product   \n",
       "\n",
       "   ...   order_frequency_flag  gender    state age  number_of_dependants  \\\n",
       "0  ...  Non-frequent customer  Female  Alabama  31                     3   \n",
       "1  ...  Non-frequent customer  Female  Alabama  31                     3   \n",
       "2  ...  Non-frequent customer  Female  Alabama  31                     3   \n",
       "3  ...  Non-frequent customer  Female  Alabama  31                     3   \n",
       "4  ...  Non-frequent customer  Female  Alabama  31                     3   \n",
       "\n",
       "  marital_status  income department region           activity_flag  \n",
       "0        married   40423  beverages  South  High-activity customer  \n",
       "1        married   40423  beverages  South  High-activity customer  \n",
       "2        married   40423  beverages  South  High-activity customer  \n",
       "3        married   40423  beverages  South  High-activity customer  \n",
       "4        married   40423  beverages  South  High-activity customer  \n",
       "\n",
       "[5 rows x 27 columns]"
      ]
     },
     "execution_count": 32,
     "metadata": {},
     "output_type": "execute_result"
    }
   ],
   "source": [
    "# Chech if new column was created\n",
    "df_all.head()"
   ]
  },
  {
   "cell_type": "code",
   "execution_count": 33,
   "id": "5244b36f",
   "metadata": {},
   "outputs": [
    {
     "data": {
      "text/plain": [
       "activity_flag\n",
       "High-activity customer    30992664\n",
       "Low-activity customer      1441548\n",
       "Name: count, dtype: int64"
      ]
     },
     "execution_count": 33,
     "metadata": {},
     "output_type": "execute_result"
    }
   ],
   "source": [
    "# Check value counts\n",
    "df_all['activity_flag'].value_counts(dropna = False)"
   ]
  },
  {
   "cell_type": "code",
   "execution_count": 34,
   "id": "9980023b",
   "metadata": {},
   "outputs": [],
   "source": [
    "# Create subset that excludes all low-activity customers\n",
    "df_high_act = df_all[df_all['activity_flag'] == 'High-activity customer']"
   ]
  },
  {
   "cell_type": "code",
   "execution_count": 35,
   "id": "3dcef1d7",
   "metadata": {},
   "outputs": [
    {
     "data": {
      "text/plain": [
       "activity_flag\n",
       "High-activity customer    30992664\n",
       "Name: count, dtype: int64"
      ]
     },
     "execution_count": 35,
     "metadata": {},
     "output_type": "execute_result"
    }
   ],
   "source": [
    "# Check if all low-activity customers were excluded correctly. If number is the same as in the above value counts, than yes.\n",
    "df_high_act['activity_flag'].value_counts()"
   ]
  },
  {
   "cell_type": "markdown",
   "id": "b553349b",
   "metadata": {},
   "source": [
    "# 6. Export data"
   ]
  },
  {
   "cell_type": "code",
   "execution_count": 36,
   "id": "46ec2d41",
   "metadata": {},
   "outputs": [],
   "source": [
    "# Export separatelly df_all and df_high_act as pikle format\n",
    "df_all.to_pickle(os.path.join(path, '02 Data','Prepared Data', 'instacart_all_users.pkl'))"
   ]
  },
  {
   "cell_type": "code",
   "execution_count": 37,
   "id": "f804039f",
   "metadata": {},
   "outputs": [],
   "source": [
    "df_high_act.to_pickle(os.path.join(path, '02 Data','Prepared Data', 'instacart_high_act_users.pkl'))"
   ]
  }
 ],
 "metadata": {
  "kernelspec": {
   "display_name": "Python 3 (ipykernel)",
   "language": "python",
   "name": "python3"
  },
  "language_info": {
   "codemirror_mode": {
    "name": "ipython",
    "version": 3
   },
   "file_extension": ".py",
   "mimetype": "text/x-python",
   "name": "python",
   "nbconvert_exporter": "python",
   "pygments_lexer": "ipython3",
   "version": "3.11.4"
  }
 },
 "nbformat": 4,
 "nbformat_minor": 5
}
