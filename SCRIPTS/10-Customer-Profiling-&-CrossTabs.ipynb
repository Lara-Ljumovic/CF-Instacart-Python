{
 "cells": [
  {
   "cell_type": "markdown",
   "id": "493d786f",
   "metadata": {},
   "source": [
    "# Coding Etiquette & Excel Reporting (2)\n",
    "# (Part 1 - Q 5)"
   ]
  },
  {
   "cell_type": "markdown",
   "id": "b7a55d42",
   "metadata": {},
   "source": [
    "## Content\n",
    "#### 1. Import libraries and data\n",
    "#### 2. Create a profiling variable\n",
    "#### 2.1. Create new column 'age_group'\n",
    "#### 2.2. Create new column 'family_size'\n",
    "#### 2.3. Create new column 'income_class'\n",
    "#### 2.4. Create new columns 'baby_flag' and 'pet_flag'\n",
    "#### 2.5. Create new column 'period_of_day'\n",
    "#### 2.6. Create new column 'income_class_and_age'\n",
    "#### 2.7. Create one variable for customer profiling 'customer_profile'\n",
    "#### 3. Drop unnecessary columns\n",
    "#### 4. Export data"
   ]
  },
  {
   "cell_type": "markdown",
   "id": "594e15ff",
   "metadata": {},
   "source": [
    "# 1. Import libraries and data"
   ]
  },
  {
   "cell_type": "code",
   "execution_count": 1,
   "id": "ade4e4d4",
   "metadata": {},
   "outputs": [],
   "source": [
    "# Import libraries\n",
    "import pandas as pd\n",
    "import numpy as np\n",
    "import os"
   ]
  },
  {
   "cell_type": "code",
   "execution_count": 2,
   "id": "375b8f25",
   "metadata": {},
   "outputs": [],
   "source": [
    "# Create project folder path\n",
    "path = r'C:\\Users\\Lara\\Career Foundry Projects\\21-09-2023 Instacart Basket Analysis'"
   ]
  },
  {
   "cell_type": "code",
   "execution_count": 3,
   "id": "6fbc75a7",
   "metadata": {},
   "outputs": [],
   "source": [
    "# Import dataset instacart_high_act_users.pkl\n",
    "df_all = pd.read_pickle (os.path.join (path, '02 Data','Prepared Data', 'instacart_high_act_users.pkl'))"
   ]
  },
  {
   "cell_type": "code",
   "execution_count": 4,
   "id": "77b44852",
   "metadata": {},
   "outputs": [
    {
     "data": {
      "text/html": [
       "<div>\n",
       "<style scoped>\n",
       "    .dataframe tbody tr th:only-of-type {\n",
       "        vertical-align: middle;\n",
       "    }\n",
       "\n",
       "    .dataframe tbody tr th {\n",
       "        vertical-align: top;\n",
       "    }\n",
       "\n",
       "    .dataframe thead th {\n",
       "        text-align: right;\n",
       "    }\n",
       "</style>\n",
       "<table border=\"1\" class=\"dataframe\">\n",
       "  <thead>\n",
       "    <tr style=\"text-align: right;\">\n",
       "      <th></th>\n",
       "      <th>order_id</th>\n",
       "      <th>user_id</th>\n",
       "      <th>order_number</th>\n",
       "      <th>orders_day_of_week</th>\n",
       "      <th>order_hour_of_day</th>\n",
       "      <th>days_since_prior_order</th>\n",
       "      <th>product_id</th>\n",
       "      <th>product_name</th>\n",
       "      <th>prices</th>\n",
       "      <th>price_range</th>\n",
       "      <th>...</th>\n",
       "      <th>order_frequency_flag</th>\n",
       "      <th>gender</th>\n",
       "      <th>state</th>\n",
       "      <th>age</th>\n",
       "      <th>number_of_dependants</th>\n",
       "      <th>marital_status</th>\n",
       "      <th>income</th>\n",
       "      <th>department</th>\n",
       "      <th>region</th>\n",
       "      <th>activity_flag</th>\n",
       "    </tr>\n",
       "  </thead>\n",
       "  <tbody>\n",
       "    <tr>\n",
       "      <th>0</th>\n",
       "      <td>2539329</td>\n",
       "      <td>1</td>\n",
       "      <td>1</td>\n",
       "      <td>Monday</td>\n",
       "      <td>8</td>\n",
       "      <td>NaN</td>\n",
       "      <td>196</td>\n",
       "      <td>Soda</td>\n",
       "      <td>9.0</td>\n",
       "      <td>Mid-range product</td>\n",
       "      <td>...</td>\n",
       "      <td>Non-frequent customer</td>\n",
       "      <td>Female</td>\n",
       "      <td>Alabama</td>\n",
       "      <td>31</td>\n",
       "      <td>3</td>\n",
       "      <td>married</td>\n",
       "      <td>40423</td>\n",
       "      <td>beverages</td>\n",
       "      <td>South</td>\n",
       "      <td>High-activity customer</td>\n",
       "    </tr>\n",
       "    <tr>\n",
       "      <th>1</th>\n",
       "      <td>2398795</td>\n",
       "      <td>1</td>\n",
       "      <td>2</td>\n",
       "      <td>Tuesday</td>\n",
       "      <td>7</td>\n",
       "      <td>15.0</td>\n",
       "      <td>196</td>\n",
       "      <td>Soda</td>\n",
       "      <td>9.0</td>\n",
       "      <td>Mid-range product</td>\n",
       "      <td>...</td>\n",
       "      <td>Non-frequent customer</td>\n",
       "      <td>Female</td>\n",
       "      <td>Alabama</td>\n",
       "      <td>31</td>\n",
       "      <td>3</td>\n",
       "      <td>married</td>\n",
       "      <td>40423</td>\n",
       "      <td>beverages</td>\n",
       "      <td>South</td>\n",
       "      <td>High-activity customer</td>\n",
       "    </tr>\n",
       "    <tr>\n",
       "      <th>2</th>\n",
       "      <td>473747</td>\n",
       "      <td>1</td>\n",
       "      <td>3</td>\n",
       "      <td>Tuesday</td>\n",
       "      <td>12</td>\n",
       "      <td>21.0</td>\n",
       "      <td>196</td>\n",
       "      <td>Soda</td>\n",
       "      <td>9.0</td>\n",
       "      <td>Mid-range product</td>\n",
       "      <td>...</td>\n",
       "      <td>Non-frequent customer</td>\n",
       "      <td>Female</td>\n",
       "      <td>Alabama</td>\n",
       "      <td>31</td>\n",
       "      <td>3</td>\n",
       "      <td>married</td>\n",
       "      <td>40423</td>\n",
       "      <td>beverages</td>\n",
       "      <td>South</td>\n",
       "      <td>High-activity customer</td>\n",
       "    </tr>\n",
       "    <tr>\n",
       "      <th>3</th>\n",
       "      <td>2254736</td>\n",
       "      <td>1</td>\n",
       "      <td>4</td>\n",
       "      <td>Wednesday</td>\n",
       "      <td>7</td>\n",
       "      <td>29.0</td>\n",
       "      <td>196</td>\n",
       "      <td>Soda</td>\n",
       "      <td>9.0</td>\n",
       "      <td>Mid-range product</td>\n",
       "      <td>...</td>\n",
       "      <td>Non-frequent customer</td>\n",
       "      <td>Female</td>\n",
       "      <td>Alabama</td>\n",
       "      <td>31</td>\n",
       "      <td>3</td>\n",
       "      <td>married</td>\n",
       "      <td>40423</td>\n",
       "      <td>beverages</td>\n",
       "      <td>South</td>\n",
       "      <td>High-activity customer</td>\n",
       "    </tr>\n",
       "    <tr>\n",
       "      <th>4</th>\n",
       "      <td>431534</td>\n",
       "      <td>1</td>\n",
       "      <td>5</td>\n",
       "      <td>Wednesday</td>\n",
       "      <td>15</td>\n",
       "      <td>28.0</td>\n",
       "      <td>196</td>\n",
       "      <td>Soda</td>\n",
       "      <td>9.0</td>\n",
       "      <td>Mid-range product</td>\n",
       "      <td>...</td>\n",
       "      <td>Non-frequent customer</td>\n",
       "      <td>Female</td>\n",
       "      <td>Alabama</td>\n",
       "      <td>31</td>\n",
       "      <td>3</td>\n",
       "      <td>married</td>\n",
       "      <td>40423</td>\n",
       "      <td>beverages</td>\n",
       "      <td>South</td>\n",
       "      <td>High-activity customer</td>\n",
       "    </tr>\n",
       "  </tbody>\n",
       "</table>\n",
       "<p>5 rows × 27 columns</p>\n",
       "</div>"
      ],
      "text/plain": [
       "   order_id  user_id  order_number orders_day_of_week  order_hour_of_day  \\\n",
       "0   2539329        1             1             Monday                  8   \n",
       "1   2398795        1             2            Tuesday                  7   \n",
       "2    473747        1             3            Tuesday                 12   \n",
       "3   2254736        1             4          Wednesday                  7   \n",
       "4    431534        1             5          Wednesday                 15   \n",
       "\n",
       "   days_since_prior_order  product_id product_name  prices        price_range  \\\n",
       "0                     NaN         196         Soda     9.0  Mid-range product   \n",
       "1                    15.0         196         Soda     9.0  Mid-range product   \n",
       "2                    21.0         196         Soda     9.0  Mid-range product   \n",
       "3                    29.0         196         Soda     9.0  Mid-range product   \n",
       "4                    28.0         196         Soda     9.0  Mid-range product   \n",
       "\n",
       "   ...   order_frequency_flag  gender    state age  number_of_dependants  \\\n",
       "0  ...  Non-frequent customer  Female  Alabama  31                     3   \n",
       "1  ...  Non-frequent customer  Female  Alabama  31                     3   \n",
       "2  ...  Non-frequent customer  Female  Alabama  31                     3   \n",
       "3  ...  Non-frequent customer  Female  Alabama  31                     3   \n",
       "4  ...  Non-frequent customer  Female  Alabama  31                     3   \n",
       "\n",
       "  marital_status  income department region           activity_flag  \n",
       "0        married   40423  beverages  South  High-activity customer  \n",
       "1        married   40423  beverages  South  High-activity customer  \n",
       "2        married   40423  beverages  South  High-activity customer  \n",
       "3        married   40423  beverages  South  High-activity customer  \n",
       "4        married   40423  beverages  South  High-activity customer  \n",
       "\n",
       "[5 rows x 27 columns]"
      ]
     },
     "execution_count": 4,
     "metadata": {},
     "output_type": "execute_result"
    }
   ],
   "source": [
    "# Check head() and info() of df_all\n",
    "df_all.head()"
   ]
  },
  {
   "cell_type": "code",
   "execution_count": 5,
   "id": "c3c3d407",
   "metadata": {},
   "outputs": [
    {
     "name": "stdout",
     "output_type": "stream",
     "text": [
      "<class 'pandas.core.frame.DataFrame'>\n",
      "Index: 30992664 entries, 0 to 32434207\n",
      "Data columns (total 27 columns):\n",
      " #   Column                  Dtype  \n",
      "---  ------                  -----  \n",
      " 0   order_id                int32  \n",
      " 1   user_id                 int32  \n",
      " 2   order_number            int16  \n",
      " 3   orders_day_of_week      object \n",
      " 4   order_hour_of_day       int8   \n",
      " 5   days_since_prior_order  float32\n",
      " 6   product_id              int32  \n",
      " 7   product_name            object \n",
      " 8   prices                  float32\n",
      " 9   price_range             object \n",
      " 10  busiest_days            object \n",
      " 11  busiest_period_of_day   object \n",
      " 12  max_order               int16  \n",
      " 13  loyalty_flag            object \n",
      " 14  mean_price              float32\n",
      " 15  spending_flag           object \n",
      " 16  median_days             float32\n",
      " 17  order_frequency_flag    object \n",
      " 18  gender                  object \n",
      " 19  state                   object \n",
      " 20  age                     int8   \n",
      " 21  number_of_dependants    int8   \n",
      " 22  marital_status          object \n",
      " 23  income                  int32  \n",
      " 24  department              object \n",
      " 25  region                  object \n",
      " 26  activity_flag           object \n",
      "dtypes: float32(4), int16(2), int32(4), int8(3), object(14)\n",
      "memory usage: 4.6+ GB\n"
     ]
    }
   ],
   "source": [
    "df_all.info()"
   ]
  },
  {
   "cell_type": "markdown",
   "id": "fc14820a",
   "metadata": {},
   "source": [
    "# 2. Create a customer profiling variable"
   ]
  },
  {
   "cell_type": "markdown",
   "id": "7b04d45c",
   "metadata": {},
   "source": [
    "#### Create a profiling variable based on age, income, certain goods in the “department_id” column, and number of dependents. You might also use the “orders_day_of_the_week” and “order_hour_of_day” columns if you can think of a way they would impact customer profiles. (Hint: As an example, try thinking of what characteristics would lead you to the profile “Single adult” or “Young parent.”)"
   ]
  },
  {
   "cell_type": "markdown",
   "id": "c2e9f3a2",
   "metadata": {},
   "source": [
    "## 2.1. Create new column 'age_group'"
   ]
  },
  {
   "cell_type": "markdown",
   "id": "c3e6b0e2",
   "metadata": {},
   "source": [
    "#### Age group intervals are made taking into consideration officially revised age groups made by WHO and UN in 2015. For people older than 60 I made just one group.\n"
   ]
  },
  {
   "cell_type": "code",
   "execution_count": 6,
   "id": "892ac291",
   "metadata": {},
   "outputs": [
    {
     "data": {
      "text/plain": [
       "18"
      ]
     },
     "execution_count": 6,
     "metadata": {},
     "output_type": "execute_result"
    }
   ],
   "source": [
    "# Check min and max values in column 'age'\n",
    "df_all['age'].min()"
   ]
  },
  {
   "cell_type": "code",
   "execution_count": 7,
   "id": "e82e06a0",
   "metadata": {},
   "outputs": [
    {
     "data": {
      "text/plain": [
       "81"
      ]
     },
     "execution_count": 7,
     "metadata": {},
     "output_type": "execute_result"
    }
   ],
   "source": [
    "df_all['age'].max()"
   ]
  },
  {
   "cell_type": "code",
   "execution_count": 8,
   "id": "5d378850",
   "metadata": {},
   "outputs": [],
   "source": [
    "# Create new column 'age_group'\n",
    "df_all.loc[df_all['age'] <= 25, 'age_group'] = 'Youth'"
   ]
  },
  {
   "cell_type": "code",
   "execution_count": 9,
   "id": "b0de232f",
   "metadata": {},
   "outputs": [],
   "source": [
    "df_all.loc[(df_all['age'] > 25) & (df_all['age'] <= 44), 'age_group'] = 'Young adult'"
   ]
  },
  {
   "cell_type": "code",
   "execution_count": 10,
   "id": "f46b297d",
   "metadata": {},
   "outputs": [],
   "source": [
    "df_all.loc[(df_all['age'] > 44) & (df_all['age'] <= 60), 'age_group'] = 'Middle-age adult'"
   ]
  },
  {
   "cell_type": "code",
   "execution_count": 11,
   "id": "74907e70",
   "metadata": {},
   "outputs": [],
   "source": [
    "df_all.loc[df_all['age'] > 60, 'age_group'] = 'Older adult'"
   ]
  },
  {
   "cell_type": "code",
   "execution_count": 12,
   "id": "43f22786",
   "metadata": {},
   "outputs": [
    {
     "data": {
      "text/plain": [
       "(30992664, 28)"
      ]
     },
     "execution_count": 12,
     "metadata": {},
     "output_type": "execute_result"
    }
   ],
   "source": [
    "# Check if new column was created\n",
    "df_all.shape"
   ]
  },
  {
   "cell_type": "code",
   "execution_count": 13,
   "id": "651fcc70",
   "metadata": {},
   "outputs": [
    {
     "data": {
      "text/plain": [
       "age_group\n",
       "Older adult         10121613\n",
       "Young adult          9222501\n",
       "Middle-age adult     7780384\n",
       "Youth                3868166\n",
       "Name: count, dtype: int64"
      ]
     },
     "execution_count": 13,
     "metadata": {},
     "output_type": "execute_result"
    }
   ],
   "source": [
    "# Check value counts\n",
    "df_all['age_group'].value_counts(dropna = False)"
   ]
  },
  {
   "cell_type": "markdown",
   "id": "1f0c6662",
   "metadata": {},
   "source": [
    "#### Comment: The reason why age group Youth has low number of counts is because it describes only customers aged between 18 and 25 years with those years included, that is a span of 8 years. Other age groups span over about 15 - 20 years. Interenstingly, biggest customers are Older adults, that is people over 60 years old"
   ]
  },
  {
   "cell_type": "code",
   "execution_count": 14,
   "id": "bc851c09",
   "metadata": {},
   "outputs": [],
   "source": [
    "# Create a custom made dictionary for new order/arrangement for age groups\n",
    "arrange_age_gr = {'Youth' : 0, 'Young adult' : 1, 'Middle-age adult' : 2, 'Older adult' : 3} "
   ]
  },
  {
   "cell_type": "code",
   "execution_count": 15,
   "id": "cd4e048b",
   "metadata": {},
   "outputs": [
    {
     "data": {
      "text/plain": [
       "age_group\n",
       "Youth                3868166\n",
       "Young adult          9222501\n",
       "Middle-age adult     7780384\n",
       "Older adult         10121613\n",
       "Name: count, dtype: int64"
      ]
     },
     "execution_count": 15,
     "metadata": {},
     "output_type": "execute_result"
    }
   ],
   "source": [
    "# Count all values in column 'age_group' and sort by custom made dictionary arrange_age_gr\n",
    "df_all['age_group'].value_counts().sort_index(key = lambda x: x.map(arrange_age_gr))"
   ]
  },
  {
   "cell_type": "markdown",
   "id": "aa7c4f32",
   "metadata": {},
   "source": [
    "# 2.2. Create new column 'family_size'"
   ]
  },
  {
   "cell_type": "code",
   "execution_count": 16,
   "id": "16de22d1",
   "metadata": {},
   "outputs": [
    {
     "data": {
      "text/plain": [
       "marital_status\n",
       "married                             21763021\n",
       "single                               5099271\n",
       "divorced/widowed                     2647761\n",
       "living with parents and siblings     1482611\n",
       "Name: count, dtype: int64"
      ]
     },
     "execution_count": 16,
     "metadata": {},
     "output_type": "execute_result"
    }
   ],
   "source": [
    "df_all['marital_status'].value_counts()"
   ]
  },
  {
   "cell_type": "code",
   "execution_count": 17,
   "id": "e0fce1bd",
   "metadata": {},
   "outputs": [
    {
     "data": {
      "text/plain": [
       "number_of_dependants\n",
       "0    7747032\n",
       "1    7725981\n",
       "2    7740199\n",
       "3    7779452\n",
       "Name: count, dtype: int64"
      ]
     },
     "execution_count": 17,
     "metadata": {},
     "output_type": "execute_result"
    }
   ],
   "source": [
    "df_all['number_of_dependants'].value_counts().sort_index()"
   ]
  },
  {
   "cell_type": "code",
   "execution_count": 18,
   "id": "38b9f55d",
   "metadata": {},
   "outputs": [],
   "source": [
    "# Create crosstab to think about possible 'family_type' value names\n",
    "crosstab_1 = pd.crosstab(df_all['marital_status'], df_all['number_of_dependants'], dropna = False)"
   ]
  },
  {
   "cell_type": "code",
   "execution_count": 19,
   "id": "e03654ce",
   "metadata": {},
   "outputs": [
    {
     "data": {
      "text/html": [
       "<div>\n",
       "<style scoped>\n",
       "    .dataframe tbody tr th:only-of-type {\n",
       "        vertical-align: middle;\n",
       "    }\n",
       "\n",
       "    .dataframe tbody tr th {\n",
       "        vertical-align: top;\n",
       "    }\n",
       "\n",
       "    .dataframe thead th {\n",
       "        text-align: right;\n",
       "    }\n",
       "</style>\n",
       "<table border=\"1\" class=\"dataframe\">\n",
       "  <thead>\n",
       "    <tr style=\"text-align: right;\">\n",
       "      <th>number_of_dependants</th>\n",
       "      <th>0</th>\n",
       "      <th>1</th>\n",
       "      <th>2</th>\n",
       "      <th>3</th>\n",
       "    </tr>\n",
       "    <tr>\n",
       "      <th>marital_status</th>\n",
       "      <th></th>\n",
       "      <th></th>\n",
       "      <th></th>\n",
       "      <th></th>\n",
       "    </tr>\n",
       "  </thead>\n",
       "  <tbody>\n",
       "    <tr>\n",
       "      <th>divorced/widowed</th>\n",
       "      <td>2647761</td>\n",
       "      <td>0</td>\n",
       "      <td>0</td>\n",
       "      <td>0</td>\n",
       "    </tr>\n",
       "    <tr>\n",
       "      <th>living with parents and siblings</th>\n",
       "      <td>0</td>\n",
       "      <td>508439</td>\n",
       "      <td>485157</td>\n",
       "      <td>489015</td>\n",
       "    </tr>\n",
       "    <tr>\n",
       "      <th>married</th>\n",
       "      <td>0</td>\n",
       "      <td>7217542</td>\n",
       "      <td>7255042</td>\n",
       "      <td>7290437</td>\n",
       "    </tr>\n",
       "    <tr>\n",
       "      <th>single</th>\n",
       "      <td>5099271</td>\n",
       "      <td>0</td>\n",
       "      <td>0</td>\n",
       "      <td>0</td>\n",
       "    </tr>\n",
       "  </tbody>\n",
       "</table>\n",
       "</div>"
      ],
      "text/plain": [
       "number_of_dependants                    0        1        2        3\n",
       "marital_status                                                      \n",
       "divorced/widowed                  2647761        0        0        0\n",
       "living with parents and siblings        0   508439   485157   489015\n",
       "married                                 0  7217542  7255042  7290437\n",
       "single                            5099271        0        0        0"
      ]
     },
     "execution_count": 19,
     "metadata": {},
     "output_type": "execute_result"
    }
   ],
   "source": [
    "crosstab_1"
   ]
  },
  {
   "cell_type": "markdown",
   "id": "8788cfc1",
   "metadata": {},
   "source": [
    "#### Comment: Dependant can be child, step child, sibling or parent or other close relative. It cannot be a spouse.\n",
    "#### Crosstab above shows that single adults, or family of one, are people who's marrital status is either single or divorsed/widowed and they are the only ones without dependants. Family size for married people will be equal to number of dependants + 1, and for married people +2 ( because spouse is not a dependant!)"
   ]
  },
  {
   "cell_type": "code",
   "execution_count": 20,
   "id": "71f9324d",
   "metadata": {},
   "outputs": [],
   "source": [
    "# Create new column 'family_size'\n",
    "df_all.loc[df_all['number_of_dependants'] == 0, 'family_size'] = '1'\n",
    "df_all.loc[((df_all['number_of_dependants'] == 1) & (df_all['marital_status'] == 'living with parents and siblings')), 'family_size'] = '2'\n",
    "df_all.loc[(((df_all['number_of_dependants'] == 1) & (df_all['marital_status'] == 'married')) | ((df_all['number_of_dependants'] == 2) & (df_all['marital_status'] == 'living with parents and siblings'))) , 'family_size'] = '3'\n",
    "df_all.loc[(((df_all['number_of_dependants'] == 2) & (df_all['marital_status'] == 'married')) | ((df_all['number_of_dependants'] == 3) & (df_all['marital_status'] == 'living with parents and siblings'))) , 'family_size'] = '4'\n",
    "df_all.loc[((df_all['number_of_dependants'] == 3) & (df_all['marital_status'] == 'married')), 'family_size'] = '5'"
   ]
  },
  {
   "cell_type": "code",
   "execution_count": 21,
   "id": "d309ff24",
   "metadata": {},
   "outputs": [
    {
     "data": {
      "text/plain": [
       "(30992664, 29)"
      ]
     },
     "execution_count": 21,
     "metadata": {},
     "output_type": "execute_result"
    }
   ],
   "source": [
    "# Check if new column was created\n",
    "df_all.shape"
   ]
  },
  {
   "cell_type": "code",
   "execution_count": 22,
   "id": "41e14317",
   "metadata": {},
   "outputs": [
    {
     "data": {
      "text/plain": [
       "family_size\n",
       "1    7747032\n",
       "2     508439\n",
       "3    7702699\n",
       "4    7744057\n",
       "5    7290437\n",
       "Name: count, dtype: int64"
      ]
     },
     "execution_count": 22,
     "metadata": {},
     "output_type": "execute_result"
    }
   ],
   "source": [
    "# Check value counts\n",
    "df_all['family_size'].value_counts(dropna = False).sort_index()"
   ]
  },
  {
   "cell_type": "markdown",
   "id": "cb7917a8",
   "metadata": {},
   "source": [
    "## 2.3. Create new column 'income_class'"
   ]
  },
  {
   "cell_type": "code",
   "execution_count": 23,
   "id": "d94497a9",
   "metadata": {},
   "outputs": [
    {
     "data": {
      "text/plain": [
       "25903"
      ]
     },
     "execution_count": 23,
     "metadata": {},
     "output_type": "execute_result"
    }
   ],
   "source": [
    "# Check min and max of column 'income'\n",
    "df_all['income'].min()"
   ]
  },
  {
   "cell_type": "code",
   "execution_count": 24,
   "id": "bf74eec4",
   "metadata": {},
   "outputs": [
    {
     "data": {
      "text/plain": [
       "593901"
      ]
     },
     "execution_count": 24,
     "metadata": {},
     "output_type": "execute_result"
    }
   ],
   "source": [
    "df_all['income'].max()"
   ]
  },
  {
   "cell_type": "markdown",
   "id": "2b5ffadc",
   "metadata": {},
   "source": [
    "#### Calculations below were made with thought that 'income' column contains information about total family income.\n",
    "#### Income classes were made taking into consideration conclusions from PEW reserch center about income classes in US for 2016. Middle income class family is defined as family of 3 (2 parents and 1 child) who has total family income between 2/3 and double of average US income, that is between 45,200 and 135,600 for year 2016. This should be further adjusted to various family sizes and place of living, but here I'll only adjust it to family size. All income values were rounded to nearest hundred. Link https://www.pewresearch.org/short-reads/2018/09/06/the-american-middle-class-is-stable-in-size-but-losing-ground-financially-to-upper-income-families/"
   ]
  },
  {
   "cell_type": "code",
   "execution_count": 25,
   "id": "fffead6f",
   "metadata": {},
   "outputs": [],
   "source": [
    "# Create new column 'income_class'\n",
    "df_all.loc[((df_all['family_size'] == '1') & (df_all['income'] < 26100)), 'income_class'] = 'Low income class'\n",
    "df_all.loc[((df_all['family_size'] == '1') & ((df_all['income'] >= 26100) & (df_all['income'] <= 78200))), 'income_class'] = 'Middle income class'\n",
    "df_all.loc[((df_all['family_size'] == '1') & (df_all['income'] > 78200)), 'income_class'] = 'Upper income class'"
   ]
  },
  {
   "cell_type": "code",
   "execution_count": 26,
   "id": "eaa3c28f",
   "metadata": {},
   "outputs": [],
   "source": [
    "df_all.loc[((df_all['family_size'] == '2') & (df_all['income'] < 36900)), 'income_class'] = 'Low income class'\n",
    "df_all.loc[((df_all['family_size'] == '2') & ((df_all['income'] >= 36900) & (df_all['income'] <= 110700))), 'income_class'] = 'Middle income class'\n",
    "df_all.loc[((df_all['family_size'] == '2') & (df_all['income'] > 110700)), 'income_class'] = 'Upper income class'"
   ]
  },
  {
   "cell_type": "code",
   "execution_count": 27,
   "id": "521e00c6",
   "metadata": {},
   "outputs": [],
   "source": [
    "df_all.loc[((df_all['family_size'] == '3') & (df_all['income'] < 45200)), 'income_class'] = 'Low income class'\n",
    "df_all.loc[((df_all['family_size'] == '3') & ((df_all['income'] >= 45200) & (df_all['income'] <= 135600))), 'income_class'] = 'Middle income class'\n",
    "df_all.loc[((df_all['family_size'] == '3') & (df_all['income'] > 135600)), 'income_class'] = 'Upper income class'"
   ]
  },
  {
   "cell_type": "code",
   "execution_count": 28,
   "id": "0941e53a",
   "metadata": {},
   "outputs": [],
   "source": [
    "df_all.loc[((df_all['family_size'] == '4') & (df_all['income'] < 52200)), 'income_class'] = 'Low income class'\n",
    "df_all.loc[((df_all['family_size'] == '4') & ((df_all['income'] >= 52200) & (df_all['income'] <= 156600))), 'income_class'] = 'Middle income class'\n",
    "df_all.loc[((df_all['family_size'] == '4') & (df_all['income'] > 155600)), 'income_class'] = 'Upper income class'"
   ]
  },
  {
   "cell_type": "code",
   "execution_count": 29,
   "id": "f705c5a2",
   "metadata": {},
   "outputs": [],
   "source": [
    "df_all.loc[((df_all['family_size'] == '5') & (df_all['income'] < 58400)), 'income_class'] = 'Low income class'\n",
    "df_all.loc[((df_all['family_size'] == '5') & ((df_all['income'] >= 58400) & (df_all['income'] <= 175100))), 'income_class'] = 'Middle income class'\n",
    "df_all.loc[((df_all['family_size'] == '5') & (df_all['income'] > 175100)), 'income_class'] = 'Upper income class'"
   ]
  },
  {
   "cell_type": "code",
   "execution_count": 30,
   "id": "92b4e0ed",
   "metadata": {},
   "outputs": [
    {
     "data": {
      "text/plain": [
       "(30992664, 30)"
      ]
     },
     "execution_count": 30,
     "metadata": {},
     "output_type": "execute_result"
    }
   ],
   "source": [
    "# Check if new column was created\n",
    "df_all.shape"
   ]
  },
  {
   "cell_type": "code",
   "execution_count": 31,
   "id": "53f80288",
   "metadata": {},
   "outputs": [],
   "source": [
    "# Create a custom made dictionary for new order/arrangement for age groups\n",
    "arrange_income_cls = {'Low income class' : 0, 'Middle income class' : 1, 'Upper income class' : 2} "
   ]
  },
  {
   "cell_type": "code",
   "execution_count": 32,
   "id": "1428c86e",
   "metadata": {},
   "outputs": [
    {
     "data": {
      "text/plain": [
       "income_class\n",
       "Low income class        2806379\n",
       "Middle income class    20673240\n",
       "Upper income class      7513045\n",
       "Name: count, dtype: int64"
      ]
     },
     "execution_count": 32,
     "metadata": {},
     "output_type": "execute_result"
    }
   ],
   "source": [
    "# Count all values and sort by arrange_income_cls\n",
    "df_all['income_class'].value_counts(dropna = False).sort_index(key = lambda x: x.map(arrange_income_cls))"
   ]
  },
  {
   "cell_type": "markdown",
   "id": "8227a1a4",
   "metadata": {},
   "source": [
    "## 2.4. Create new columns 'baby_flag' and 'pet_flag'"
   ]
  },
  {
   "cell_type": "code",
   "execution_count": 33,
   "id": "b54815a5",
   "metadata": {},
   "outputs": [],
   "source": [
    "# Create new column 'baby_flag'\n",
    "df_all.loc[df_all['department'] == 'babies', 'baby_flag'] = 'Have baby'\n",
    "df_all.loc[df_all['department'] != 'babies', 'baby_flag'] = 'Do not have baby'"
   ]
  },
  {
   "cell_type": "code",
   "execution_count": 34,
   "id": "a0128d0a",
   "metadata": {},
   "outputs": [
    {
     "data": {
      "text/plain": [
       "(30992664, 31)"
      ]
     },
     "execution_count": 34,
     "metadata": {},
     "output_type": "execute_result"
    }
   ],
   "source": [
    "# Check if new column was created\n",
    "df_all.shape"
   ]
  },
  {
   "cell_type": "code",
   "execution_count": 35,
   "id": "9acc3701",
   "metadata": {
    "scrolled": true
   },
   "outputs": [
    {
     "data": {
      "text/plain": [
       "baby_flag\n",
       "Do not have baby    30582272\n",
       "Have baby             410392\n",
       "Name: count, dtype: int64"
      ]
     },
     "execution_count": 35,
     "metadata": {},
     "output_type": "execute_result"
    }
   ],
   "source": [
    "# Check value counts\n",
    "df_all['baby_flag'].value_counts(dropna = False)"
   ]
  },
  {
   "cell_type": "code",
   "execution_count": 36,
   "id": "02f6deca",
   "metadata": {},
   "outputs": [
    {
     "data": {
      "text/plain": [
       "baby_flag\n",
       "Do not have baby    162632\n",
       "Have baby            30230\n",
       "Name: user_id, dtype: int64"
      ]
     },
     "execution_count": 36,
     "metadata": {},
     "output_type": "execute_result"
    }
   ],
   "source": [
    "# Group data by 'baby_flag' and count unique users\n",
    "df_all.groupby('baby_flag')['user_id'].nunique()"
   ]
  },
  {
   "cell_type": "code",
   "execution_count": 37,
   "id": "7bdaf89b",
   "metadata": {},
   "outputs": [],
   "source": [
    "crosstab_2 = pd.crosstab(df_all['marital_status'], df_all['baby_flag'], dropna = False)"
   ]
  },
  {
   "cell_type": "code",
   "execution_count": 38,
   "id": "9a1f74e8",
   "metadata": {},
   "outputs": [
    {
     "data": {
      "text/html": [
       "<div>\n",
       "<style scoped>\n",
       "    .dataframe tbody tr th:only-of-type {\n",
       "        vertical-align: middle;\n",
       "    }\n",
       "\n",
       "    .dataframe tbody tr th {\n",
       "        vertical-align: top;\n",
       "    }\n",
       "\n",
       "    .dataframe thead th {\n",
       "        text-align: right;\n",
       "    }\n",
       "</style>\n",
       "<table border=\"1\" class=\"dataframe\">\n",
       "  <thead>\n",
       "    <tr style=\"text-align: right;\">\n",
       "      <th>baby_flag</th>\n",
       "      <th>Do not have baby</th>\n",
       "      <th>Have baby</th>\n",
       "    </tr>\n",
       "    <tr>\n",
       "      <th>marital_status</th>\n",
       "      <th></th>\n",
       "      <th></th>\n",
       "    </tr>\n",
       "  </thead>\n",
       "  <tbody>\n",
       "    <tr>\n",
       "      <th>divorced/widowed</th>\n",
       "      <td>2613410</td>\n",
       "      <td>34351</td>\n",
       "    </tr>\n",
       "    <tr>\n",
       "      <th>living with parents and siblings</th>\n",
       "      <td>1463230</td>\n",
       "      <td>19381</td>\n",
       "    </tr>\n",
       "    <tr>\n",
       "      <th>married</th>\n",
       "      <td>21475338</td>\n",
       "      <td>287683</td>\n",
       "    </tr>\n",
       "    <tr>\n",
       "      <th>single</th>\n",
       "      <td>5030294</td>\n",
       "      <td>68977</td>\n",
       "    </tr>\n",
       "  </tbody>\n",
       "</table>\n",
       "</div>"
      ],
      "text/plain": [
       "baby_flag                         Do not have baby  Have baby\n",
       "marital_status                                               \n",
       "divorced/widowed                           2613410      34351\n",
       "living with parents and siblings           1463230      19381\n",
       "married                                   21475338     287683\n",
       "single                                     5030294      68977"
      ]
     },
     "execution_count": 38,
     "metadata": {},
     "output_type": "execute_result"
    }
   ],
   "source": [
    "crosstab_2"
   ]
  },
  {
   "cell_type": "code",
   "execution_count": 39,
   "id": "de496ece",
   "metadata": {},
   "outputs": [],
   "source": [
    "# Create new column 'pet_flag'\n",
    "df_all.loc[df_all['department'] == 'pets', 'pet_flag'] = 'Have pet'\n",
    "df_all.loc[df_all['department'] != 'pets', 'pet_flag'] = 'Do not have pet'"
   ]
  },
  {
   "cell_type": "code",
   "execution_count": 40,
   "id": "6e3b41d2",
   "metadata": {},
   "outputs": [
    {
     "data": {
      "text/plain": [
       "(30992664, 32)"
      ]
     },
     "execution_count": 40,
     "metadata": {},
     "output_type": "execute_result"
    }
   ],
   "source": [
    "# Check if new column was created\n",
    "df_all.shape"
   ]
  },
  {
   "cell_type": "code",
   "execution_count": 41,
   "id": "3969a240",
   "metadata": {
    "scrolled": true
   },
   "outputs": [
    {
     "data": {
      "text/plain": [
       "pet_flag\n",
       "Do not have pet    30899599\n",
       "Have pet              93065\n",
       "Name: count, dtype: int64"
      ]
     },
     "execution_count": 41,
     "metadata": {},
     "output_type": "execute_result"
    }
   ],
   "source": [
    "# Check value counts\n",
    "df_all['pet_flag'].value_counts(dropna = False)"
   ]
  },
  {
   "cell_type": "code",
   "execution_count": 42,
   "id": "7142603d",
   "metadata": {},
   "outputs": [
    {
     "data": {
      "text/plain": [
       "pet_flag\n",
       "Do not have pet    162633\n",
       "Have pet            13175\n",
       "Name: user_id, dtype: int64"
      ]
     },
     "execution_count": 42,
     "metadata": {},
     "output_type": "execute_result"
    }
   ],
   "source": [
    "# Group data by 'pet_flag' and count unique users\n",
    "df_all.groupby('pet_flag')['user_id'].nunique()"
   ]
  },
  {
   "cell_type": "markdown",
   "id": "45994dd2",
   "metadata": {},
   "source": [
    "#### Comment: Even though 15% users buys baby products, from crosstab I can only conclude that people of all family structure buy baby stuff. For example: all \"living with siblings and parents\" are <=25 years and still buy baby stuff. Possibly siblings are babies. Also \"single\" users are from all age groups except \"older adults\" and they all don't have any dependants and still buy baby stuff. Total count of baby products is only 1.3% of all transactions (number of rows).  I will not use this information for customer profiling.\n",
    "#### Similarly, I won't use 'pet_flag' either as about 6% users have pets and total count of pet realted item bought is only about 0.3% of all transactions (number of rows)."
   ]
  },
  {
   "cell_type": "code",
   "execution_count": 43,
   "id": "f5ba7260",
   "metadata": {},
   "outputs": [],
   "source": [
    "# Drop both columns\n",
    "df_all = df_all.drop (columns = ['baby_flag', 'pet_flag'])"
   ]
  },
  {
   "cell_type": "code",
   "execution_count": 44,
   "id": "6deb32d0",
   "metadata": {},
   "outputs": [
    {
     "data": {
      "text/plain": [
       "(30992664, 30)"
      ]
     },
     "execution_count": 44,
     "metadata": {},
     "output_type": "execute_result"
    }
   ],
   "source": [
    "# Check shape\n",
    "df_all.shape"
   ]
  },
  {
   "cell_type": "markdown",
   "id": "b1c7b7d1",
   "metadata": {},
   "source": [
    "## 2.5. Create new columns 'part_of_day'"
   ]
  },
  {
   "cell_type": "markdown",
   "id": "1ca2210b",
   "metadata": {},
   "source": [
    "#### I used partition of the day into 4 parts: morning, mid-day, late afternoon to early night and late night to have 4 periods of the day with 6 hours each, even though previous analyses showed majority of items were bought between 8 am and 4 pm (16)."
   ]
  },
  {
   "cell_type": "code",
   "execution_count": 45,
   "id": "65ebfbc1",
   "metadata": {},
   "outputs": [],
   "source": [
    "# Create new column 'part_of_day'\n",
    "df_all.loc[(df_all['order_hour_of_day'] >= 5) & (df_all['order_hour_of_day'] < 11), 'part_of_day'] = 'Morning'\n",
    "df_all.loc[(df_all['order_hour_of_day'] >= 11) & (df_all['order_hour_of_day'] < 17 ), 'part_of_day'] = 'Mid-day'\n",
    "df_all.loc[(df_all['order_hour_of_day'] >= 17) & (df_all['order_hour_of_day'] < 23), 'part_of_day'] = 'Late afternoon to early night'\n",
    "df_all.loc[(df_all['order_hour_of_day'] >= 23) | (df_all['order_hour_of_day'] < 5), 'part_of_day'] = 'Late night'"
   ]
  },
  {
   "cell_type": "code",
   "execution_count": 46,
   "id": "d85c7ac9",
   "metadata": {},
   "outputs": [
    {
     "data": {
      "text/plain": [
       "(30992664, 31)"
      ]
     },
     "execution_count": 46,
     "metadata": {},
     "output_type": "execute_result"
    }
   ],
   "source": [
    "# Check shape\n",
    "df_all.shape"
   ]
  },
  {
   "cell_type": "code",
   "execution_count": 47,
   "id": "a5dc5e57",
   "metadata": {},
   "outputs": [
    {
     "data": {
      "text/plain": [
       "part_of_day\n",
       "Mid-day                          15180993\n",
       "Morning                           7908986\n",
       "Late afternoon to early night     7034570\n",
       "Late night                         868115\n",
       "Name: count, dtype: int64"
      ]
     },
     "execution_count": 47,
     "metadata": {},
     "output_type": "execute_result"
    }
   ],
   "source": [
    "df_all['part_of_day'].value_counts(dropna = False)"
   ]
  },
  {
   "cell_type": "markdown",
   "id": "4b6bd012",
   "metadata": {},
   "source": [
    "## 2.6. Create new column 'income_class_and_age'"
   ]
  },
  {
   "cell_type": "code",
   "execution_count": 48,
   "id": "06012242",
   "metadata": {},
   "outputs": [],
   "source": [
    "# Create crosstab for 'age_group' and 'income_class' to compare values from newly made column below\n",
    "crosstab_3 = pd.crosstab(df_all['age_group'], df_all['income_class'], dropna = False)"
   ]
  },
  {
   "cell_type": "code",
   "execution_count": 49,
   "id": "06fb50a6",
   "metadata": {},
   "outputs": [
    {
     "data": {
      "text/html": [
       "<div>\n",
       "<style scoped>\n",
       "    .dataframe tbody tr th:only-of-type {\n",
       "        vertical-align: middle;\n",
       "    }\n",
       "\n",
       "    .dataframe tbody tr th {\n",
       "        vertical-align: top;\n",
       "    }\n",
       "\n",
       "    .dataframe thead th {\n",
       "        text-align: right;\n",
       "    }\n",
       "</style>\n",
       "<table border=\"1\" class=\"dataframe\">\n",
       "  <thead>\n",
       "    <tr style=\"text-align: right;\">\n",
       "      <th>income_class</th>\n",
       "      <th>Low income class</th>\n",
       "      <th>Middle income class</th>\n",
       "      <th>Upper income class</th>\n",
       "    </tr>\n",
       "    <tr>\n",
       "      <th>age_group</th>\n",
       "      <th></th>\n",
       "      <th></th>\n",
       "      <th></th>\n",
       "    </tr>\n",
       "  </thead>\n",
       "  <tbody>\n",
       "    <tr>\n",
       "      <th>Middle-age adult</th>\n",
       "      <td>511993</td>\n",
       "      <td>4731328</td>\n",
       "      <td>2537063</td>\n",
       "    </tr>\n",
       "    <tr>\n",
       "      <th>Older adult</th>\n",
       "      <td>657483</td>\n",
       "      <td>6139594</td>\n",
       "      <td>3324536</td>\n",
       "    </tr>\n",
       "    <tr>\n",
       "      <th>Young adult</th>\n",
       "      <td>1191349</td>\n",
       "      <td>6735161</td>\n",
       "      <td>1295991</td>\n",
       "    </tr>\n",
       "    <tr>\n",
       "      <th>Youth</th>\n",
       "      <td>445554</td>\n",
       "      <td>3067157</td>\n",
       "      <td>355455</td>\n",
       "    </tr>\n",
       "  </tbody>\n",
       "</table>\n",
       "</div>"
      ],
      "text/plain": [
       "income_class      Low income class  Middle income class  Upper income class\n",
       "age_group                                                                  \n",
       "Middle-age adult            511993              4731328             2537063\n",
       "Older adult                 657483              6139594             3324536\n",
       "Young adult                1191349              6735161             1295991\n",
       "Youth                       445554              3067157              355455"
      ]
     },
     "execution_count": 49,
     "metadata": {},
     "output_type": "execute_result"
    }
   ],
   "source": [
    "crosstab_3"
   ]
  },
  {
   "cell_type": "code",
   "execution_count": 50,
   "id": "dde376c8",
   "metadata": {},
   "outputs": [],
   "source": [
    "crosstab_3.to_clipboard()"
   ]
  },
  {
   "cell_type": "markdown",
   "id": "f25214e3",
   "metadata": {},
   "source": [
    "#### Younger adult is Youth or Young adult (all ages <= 44)"
   ]
  },
  {
   "cell_type": "code",
   "execution_count": 51,
   "id": "094f046a",
   "metadata": {},
   "outputs": [],
   "source": [
    "df_all.loc[((df_all['age'] <= 44) & (df_all['income_class'] == 'Low income class')), 'income_class_and_age'] = 'Younger adult with low income'"
   ]
  },
  {
   "cell_type": "code",
   "execution_count": 52,
   "id": "7bd146ac",
   "metadata": {},
   "outputs": [],
   "source": [
    "df_all.loc[((df_all['age'] <= 44) & (df_all['income_class'] == 'Middle income class')), 'income_class_and_age'] = 'Younger adult with mid income'"
   ]
  },
  {
   "cell_type": "code",
   "execution_count": 53,
   "id": "63547937",
   "metadata": {},
   "outputs": [],
   "source": [
    "df_all.loc[((df_all['age'] <= 44) & (df_all['income_class'] == 'Upper income class')), 'income_class_and_age'] = 'Younger adult with high income'"
   ]
  },
  {
   "cell_type": "markdown",
   "id": "009e9e84",
   "metadata": {},
   "source": [
    "#### Mid-age adult"
   ]
  },
  {
   "cell_type": "code",
   "execution_count": 54,
   "id": "430fd0e4",
   "metadata": {},
   "outputs": [],
   "source": [
    "df_all.loc[((df_all['age_group'] == 'Middle-age adult') & (df_all['income_class'] == 'Low income class')), 'income_class_and_age'] = 'Mid-age adult with low income'"
   ]
  },
  {
   "cell_type": "code",
   "execution_count": 55,
   "id": "9137a3f8",
   "metadata": {},
   "outputs": [],
   "source": [
    "df_all.loc[((df_all['age_group'] == 'Middle-age adult') & (df_all['income_class'] == 'Middle income class')), 'income_class_and_age'] = 'Mid-age adult with mid income'"
   ]
  },
  {
   "cell_type": "code",
   "execution_count": 56,
   "id": "40d76afd",
   "metadata": {},
   "outputs": [],
   "source": [
    "df_all.loc[((df_all['age_group'] == 'Middle-age adult') & (df_all['income_class'] == 'Upper income class')), 'income_class_and_age'] = 'Mid-age adult with high income'"
   ]
  },
  {
   "cell_type": "markdown",
   "id": "48b26d6c",
   "metadata": {},
   "source": [
    "#### Older adult"
   ]
  },
  {
   "cell_type": "code",
   "execution_count": 57,
   "id": "98c53253",
   "metadata": {},
   "outputs": [],
   "source": [
    "df_all.loc[((df_all['age_group'] == 'Older adult') & (df_all['income_class'] == 'Low income class')), 'income_class_and_age'] = 'Older adult with low income'"
   ]
  },
  {
   "cell_type": "code",
   "execution_count": 58,
   "id": "f47064cd",
   "metadata": {},
   "outputs": [],
   "source": [
    "df_all.loc[((df_all['age_group'] == 'Older adult') & (df_all['income_class'] == 'Middle income class')), 'income_class_and_age'] = 'Older adult with mid income'"
   ]
  },
  {
   "cell_type": "code",
   "execution_count": 59,
   "id": "ed10a24e",
   "metadata": {},
   "outputs": [],
   "source": [
    "df_all.loc[((df_all['age_group'] == 'Older adult') & (df_all['income_class'] == 'Upper income class')), 'income_class_and_age'] = 'Older with high income'"
   ]
  },
  {
   "cell_type": "code",
   "execution_count": 60,
   "id": "a5e552b1",
   "metadata": {},
   "outputs": [
    {
     "data": {
      "text/plain": [
       "(30992664, 32)"
      ]
     },
     "execution_count": 60,
     "metadata": {},
     "output_type": "execute_result"
    }
   ],
   "source": [
    "# Check shape\n",
    "df_all.shape"
   ]
  },
  {
   "cell_type": "code",
   "execution_count": 61,
   "id": "28765dff",
   "metadata": {},
   "outputs": [
    {
     "data": {
      "text/plain": [
       "income_class_and_age\n",
       "Younger adult with mid income     9802318\n",
       "Older adult with mid income       6139594\n",
       "Mid-age adult with mid income     4731328\n",
       "Older with high income            3324536\n",
       "Mid-age adult with high income    2537063\n",
       "Younger adult with high income    1651446\n",
       "Younger adult with low income     1636903\n",
       "Older adult with low income        657483\n",
       "Mid-age adult with low income      511993\n",
       "Name: count, dtype: int64"
      ]
     },
     "execution_count": 61,
     "metadata": {},
     "output_type": "execute_result"
    }
   ],
   "source": [
    "# Count all values\n",
    "df_all['income_class_and_age'].value_counts(dropna = False)"
   ]
  },
  {
   "cell_type": "markdown",
   "id": "3afbeea8",
   "metadata": {},
   "source": [
    "# 2.7. Create one variable for customer profiling 'customer_profile'"
   ]
  },
  {
   "cell_type": "markdown",
   "id": "1537c33b",
   "metadata": {},
   "source": [
    "#### Only users without dependats are single and divorced/widowed (family_size is 1) - they will be Single adults. All users who live with siblings and parents are under 25 but they all have 1, 2 or 3 dependants, so they'll be a Head of household under 26.\n",
    "#### Married and age <=44 will be Young parent, from 45 to 59 mid age parent and for over 60 an older parent."
   ]
  },
  {
   "cell_type": "markdown",
   "id": "11f4e39f",
   "metadata": {},
   "source": [
    "#### Single adults"
   ]
  },
  {
   "cell_type": "code",
   "execution_count": 62,
   "id": "f0914153",
   "metadata": {},
   "outputs": [],
   "source": [
    "df_all.loc[(df_all['family_size'] == '1')  & (df_all['income_class_and_age'] == 'Younger adult with low income'), 'customer_profile'] = 'Single younger adult with low income'"
   ]
  },
  {
   "cell_type": "code",
   "execution_count": 63,
   "id": "e1fbdda8",
   "metadata": {},
   "outputs": [],
   "source": [
    "df_all.loc[(df_all['family_size'] == '1')  & (df_all['income_class_and_age'] == 'Mid-age adult with low income'), 'customer_profile'] = 'Single mid-age adult with low income'"
   ]
  },
  {
   "cell_type": "code",
   "execution_count": 64,
   "id": "bb7f1108",
   "metadata": {},
   "outputs": [],
   "source": [
    "df_all.loc[(df_all['family_size'] == '1')  & (df_all['income_class_and_age'] == 'Older adult with low income'), 'customer_profile'] = 'Single older adult with low income'"
   ]
  },
  {
   "cell_type": "code",
   "execution_count": 65,
   "id": "bee8ab39",
   "metadata": {},
   "outputs": [
    {
     "data": {
      "text/plain": [
       "customer_profile\n",
       "NaN                                     30992303\n",
       "Single younger adult with low income         361\n",
       "Name: count, dtype: int64"
      ]
     },
     "execution_count": 65,
     "metadata": {},
     "output_type": "execute_result"
    }
   ],
   "source": [
    "# Check value counts\n",
    "df_all['customer_profile'].value_counts(dropna = False)"
   ]
  },
  {
   "cell_type": "code",
   "execution_count": 66,
   "id": "4d0fa68b",
   "metadata": {},
   "outputs": [],
   "source": [
    "df_all.loc[(df_all['family_size'] == '1')  & (df_all['income_class_and_age'] == 'Younger adult with mid income'), 'customer_profile'] = 'Single younger adult with mid income'"
   ]
  },
  {
   "cell_type": "code",
   "execution_count": 67,
   "id": "dad778a3",
   "metadata": {},
   "outputs": [],
   "source": [
    "df_all.loc[(df_all['family_size'] == '1')  & (df_all['income_class_and_age'] == 'Mid-age adult with mid income'), 'customer_profile'] = 'Single mid-age adult with mid income'"
   ]
  },
  {
   "cell_type": "code",
   "execution_count": 68,
   "id": "c31d20d5",
   "metadata": {},
   "outputs": [],
   "source": [
    "df_all.loc[(df_all['family_size'] == '1')  & (df_all['income_class_and_age'] == 'Older adult with mid income'), 'customer_profile'] = 'Single older adult with mid income'"
   ]
  },
  {
   "cell_type": "code",
   "execution_count": 69,
   "id": "f2a229b0",
   "metadata": {},
   "outputs": [
    {
     "data": {
      "text/plain": [
       "customer_profile\n",
       "NaN                                     28347253\n",
       "Single younger adult with mid income     1927981\n",
       "Single older adult with mid income        404480\n",
       "Single mid-age adult with mid income      312589\n",
       "Single younger adult with low income         361\n",
       "Name: count, dtype: int64"
      ]
     },
     "execution_count": 69,
     "metadata": {},
     "output_type": "execute_result"
    }
   ],
   "source": [
    "# Check value counts\n",
    "df_all['customer_profile'].value_counts(dropna = False)"
   ]
  },
  {
   "cell_type": "code",
   "execution_count": 70,
   "id": "ffb0c149",
   "metadata": {},
   "outputs": [],
   "source": [
    "df_all.loc[(df_all['family_size'] == '1')  & (df_all['income_class_and_age'] == 'Younger adult with high income'), 'customer_profile'] = 'Single younger adult with high income'"
   ]
  },
  {
   "cell_type": "code",
   "execution_count": 71,
   "id": "5a1daebc",
   "metadata": {},
   "outputs": [],
   "source": [
    "df_all.loc[(df_all['family_size'] == '1')  & (df_all['income_class_and_age'] == 'Mid-age adult with high income'), 'customer_profile'] = 'Single mid-age adult with high income'"
   ]
  },
  {
   "cell_type": "code",
   "execution_count": 72,
   "id": "87a1a916",
   "metadata": {},
   "outputs": [],
   "source": [
    "df_all.loc[(df_all['family_size'] == '1')  & (df_all['income_class_and_age'] == 'Older adult with high income'), 'customer_profile'] = 'Single older adult with high income'"
   ]
  },
  {
   "cell_type": "code",
   "execution_count": 73,
   "id": "f6d084da",
   "metadata": {},
   "outputs": [
    {
     "data": {
      "text/plain": [
       "customer_profile\n",
       "NaN                                      25376692\n",
       "Single younger adult with mid income      1927981\n",
       "Single mid-age adult with high income     1629572\n",
       "Single younger adult with high income     1340989\n",
       "Single older adult with mid income         404480\n",
       "Single mid-age adult with mid income       312589\n",
       "Single younger adult with low income          361\n",
       "Name: count, dtype: int64"
      ]
     },
     "execution_count": 73,
     "metadata": {},
     "output_type": "execute_result"
    }
   ],
   "source": [
    "# Check value counts\n",
    "df_all['customer_profile'].value_counts(dropna = False)"
   ]
  },
  {
   "cell_type": "markdown",
   "id": "7a909478",
   "metadata": {},
   "source": [
    "#### Head of household under 26"
   ]
  },
  {
   "cell_type": "code",
   "execution_count": 74,
   "id": "3eaba5f5",
   "metadata": {},
   "outputs": [],
   "source": [
    "df_all.loc[(df_all['marital_status'] == 'living with parents and siblings')  & (df_all['income_class'] == 'Low income class'), 'customer_profile'] = 'Head of household under 26 with low income'"
   ]
  },
  {
   "cell_type": "code",
   "execution_count": 75,
   "id": "46220aa0",
   "metadata": {},
   "outputs": [],
   "source": [
    "df_all.loc[(df_all['marital_status'] == 'living with parents and siblings')  & (df_all['income_class'] == 'Middle income class'), 'customer_profile'] = 'Head of household under 26 with mid income'"
   ]
  },
  {
   "cell_type": "code",
   "execution_count": 76,
   "id": "1bdda37c",
   "metadata": {},
   "outputs": [],
   "source": [
    "df_all.loc[(df_all['marital_status'] == 'living with parents and siblings')  & (df_all['income_class'] == 'Upper income class'), 'customer_profile'] = 'Head of household under 26 with high income'"
   ]
  },
  {
   "cell_type": "code",
   "execution_count": 77,
   "id": "c0496234",
   "metadata": {},
   "outputs": [
    {
     "data": {
      "text/plain": [
       "customer_profile\n",
       "NaN                                            23894081\n",
       "Single younger adult with mid income            1927981\n",
       "Single mid-age adult with high income           1629572\n",
       "Single younger adult with high income           1340989\n",
       "Head of household under 26 with mid income      1299726\n",
       "Single older adult with mid income               404480\n",
       "Single mid-age adult with mid income             312589\n",
       "Head of household under 26 with low income       166019\n",
       "Head of household under 26 with high income       16866\n",
       "Single younger adult with low income                361\n",
       "Name: count, dtype: int64"
      ]
     },
     "execution_count": 77,
     "metadata": {},
     "output_type": "execute_result"
    }
   ],
   "source": [
    "# Check value counts\n",
    "df_all['customer_profile'].value_counts(dropna = False)"
   ]
  },
  {
   "cell_type": "markdown",
   "id": "8b1c0c86",
   "metadata": {},
   "source": [
    "#### Parent"
   ]
  },
  {
   "cell_type": "code",
   "execution_count": 78,
   "id": "dd36d28d",
   "metadata": {},
   "outputs": [],
   "source": [
    "df_all.loc[(df_all['marital_status'] == 'married')  & (df_all['income_class_and_age'] == 'Younger adult with low income'), 'customer_profile'] = 'Younger parent with low income'"
   ]
  },
  {
   "cell_type": "code",
   "execution_count": 79,
   "id": "079c4928",
   "metadata": {},
   "outputs": [],
   "source": [
    "df_all.loc[(df_all['marital_status'] == 'married')  & (df_all['income_class_and_age'] == 'Mid-age adult with low income'), 'customer_profile'] = 'Mid-age parent with low income'"
   ]
  },
  {
   "cell_type": "code",
   "execution_count": 80,
   "id": "2b9cabc9",
   "metadata": {},
   "outputs": [],
   "source": [
    "df_all.loc[(df_all['marital_status'] == 'married')  & (df_all['income_class_and_age'] == 'Older adult with low income'), 'customer_profile'] = 'Older parent with low income'"
   ]
  },
  {
   "cell_type": "code",
   "execution_count": 81,
   "id": "ecfb7cc9",
   "metadata": {},
   "outputs": [
    {
     "data": {
      "text/plain": [
       "customer_profile\n",
       "NaN                                            21254082\n",
       "Single younger adult with mid income            1927981\n",
       "Single mid-age adult with high income           1629572\n",
       "Younger parent with low income                  1470523\n",
       "Single younger adult with high income           1340989\n",
       "Head of household under 26 with mid income      1299726\n",
       "Older parent with low income                     657483\n",
       "Mid-age parent with low income                   511993\n",
       "Single older adult with mid income               404480\n",
       "Single mid-age adult with mid income             312589\n",
       "Head of household under 26 with low income       166019\n",
       "Head of household under 26 with high income       16866\n",
       "Single younger adult with low income                361\n",
       "Name: count, dtype: int64"
      ]
     },
     "execution_count": 81,
     "metadata": {},
     "output_type": "execute_result"
    }
   ],
   "source": [
    "# Check value counts\n",
    "df_all['customer_profile'].value_counts(dropna = False)"
   ]
  },
  {
   "cell_type": "code",
   "execution_count": 82,
   "id": "0aa5f024",
   "metadata": {},
   "outputs": [],
   "source": [
    "df_all.loc[(df_all['marital_status'] == 'married')  & (df_all['income_class_and_age'] == 'Younger adult with mid income'), 'customer_profile'] = 'Younger parent with mid income'"
   ]
  },
  {
   "cell_type": "code",
   "execution_count": 83,
   "id": "7f90ae01",
   "metadata": {},
   "outputs": [],
   "source": [
    "df_all.loc[(df_all['marital_status'] == 'married')  & (df_all['income_class_and_age'] == 'Mid-age adult with mid income'), 'customer_profile'] = 'Mid-age parent with mid income'"
   ]
  },
  {
   "cell_type": "code",
   "execution_count": 84,
   "id": "75e672bb",
   "metadata": {},
   "outputs": [],
   "source": [
    "df_all.loc[(df_all['marital_status'] == 'married')  & (df_all['income_class_and_age'] == 'Older adult with mid income'), 'customer_profile'] = 'Older parent with mid income'"
   ]
  },
  {
   "cell_type": "code",
   "execution_count": 85,
   "id": "3a5d3a9f",
   "metadata": {},
   "outputs": [
    {
     "data": {
      "text/plain": [
       "customer_profile\n",
       "Younger parent with mid income                 6574611\n",
       "Older parent with mid income                   5735114\n",
       "NaN                                            4525618\n",
       "Mid-age parent with mid income                 4418739\n",
       "Single younger adult with mid income           1927981\n",
       "Single mid-age adult with high income          1629572\n",
       "Younger parent with low income                 1470523\n",
       "Single younger adult with high income          1340989\n",
       "Head of household under 26 with mid income     1299726\n",
       "Older parent with low income                    657483\n",
       "Mid-age parent with low income                  511993\n",
       "Single older adult with mid income              404480\n",
       "Single mid-age adult with mid income            312589\n",
       "Head of household under 26 with low income      166019\n",
       "Head of household under 26 with high income      16866\n",
       "Single younger adult with low income               361\n",
       "Name: count, dtype: int64"
      ]
     },
     "execution_count": 85,
     "metadata": {},
     "output_type": "execute_result"
    }
   ],
   "source": [
    "# Check value counts\n",
    "df_all['customer_profile'].value_counts(dropna = False)"
   ]
  },
  {
   "cell_type": "code",
   "execution_count": 86,
   "id": "8e77c035",
   "metadata": {},
   "outputs": [],
   "source": [
    "df_all.loc[(df_all['marital_status'] == 'married')  & (df_all['income_class_and_age'] == 'Younger adult with high income'), 'customer_profile'] = 'Younger parent with high income'"
   ]
  },
  {
   "cell_type": "code",
   "execution_count": 87,
   "id": "9bcd5f6d",
   "metadata": {},
   "outputs": [],
   "source": [
    "df_all.loc[(df_all['marital_status'] == 'married')  & (df_all['income_class_and_age'] == 'Mid-age adult with high income'), 'customer_profile'] = 'Mid-age parent with high income'"
   ]
  },
  {
   "cell_type": "code",
   "execution_count": 88,
   "id": "19936e42",
   "metadata": {},
   "outputs": [],
   "source": [
    "df_all.loc[(df_all['marital_status'] == 'married')  & (df_all['income_class_and_age'] == 'Older adult with high income'), 'customer_profile'] = 'Older parent with high income'"
   ]
  },
  {
   "cell_type": "code",
   "execution_count": 89,
   "id": "55342e2e",
   "metadata": {},
   "outputs": [
    {
     "data": {
      "text/plain": [
       "(30992664, 33)"
      ]
     },
     "execution_count": 89,
     "metadata": {},
     "output_type": "execute_result"
    }
   ],
   "source": [
    "# Check shape\n",
    "df_all.shape"
   ]
  },
  {
   "cell_type": "code",
   "execution_count": 90,
   "id": "f1f27a18",
   "metadata": {},
   "outputs": [
    {
     "data": {
      "text/plain": [
       "customer_profile\n",
       "Younger parent with mid income                 6574611\n",
       "Older parent with mid income                   5735114\n",
       "Mid-age parent with mid income                 4418739\n",
       "NaN                                            3324536\n",
       "Single younger adult with mid income           1927981\n",
       "Single mid-age adult with high income          1629572\n",
       "Younger parent with low income                 1470523\n",
       "Single younger adult with high income          1340989\n",
       "Head of household under 26 with mid income     1299726\n",
       "Mid-age parent with high income                 907491\n",
       "Older parent with low income                    657483\n",
       "Mid-age parent with low income                  511993\n",
       "Single older adult with mid income              404480\n",
       "Single mid-age adult with mid income            312589\n",
       "Younger parent with high income                 293591\n",
       "Head of household under 26 with low income      166019\n",
       "Head of household under 26 with high income      16866\n",
       "Single younger adult with low income               361\n",
       "Name: count, dtype: int64"
      ]
     },
     "execution_count": 90,
     "metadata": {},
     "output_type": "execute_result"
    }
   ],
   "source": [
    "# Check value counts\n",
    "df_all['customer_profile'].value_counts(dropna = False)"
   ]
  },
  {
   "cell_type": "code",
   "execution_count": 91,
   "id": "7962664f",
   "metadata": {},
   "outputs": [],
   "source": [
    "# Replese all NaN values with string 'Other customers'\n",
    "df_all['customer_profile'] = df_all['customer_profile'].fillna('Other customers')"
   ]
  },
  {
   "cell_type": "code",
   "execution_count": 92,
   "id": "95a4d6ba",
   "metadata": {},
   "outputs": [
    {
     "data": {
      "text/plain": [
       "customer_profile\n",
       "Younger parent with mid income                 6574611\n",
       "Older parent with mid income                   5735114\n",
       "Mid-age parent with mid income                 4418739\n",
       "Other customers                                3324536\n",
       "Single younger adult with mid income           1927981\n",
       "Single mid-age adult with high income          1629572\n",
       "Younger parent with low income                 1470523\n",
       "Single younger adult with high income          1340989\n",
       "Head of household under 26 with mid income     1299726\n",
       "Mid-age parent with high income                 907491\n",
       "Older parent with low income                    657483\n",
       "Mid-age parent with low income                  511993\n",
       "Single older adult with mid income              404480\n",
       "Single mid-age adult with mid income            312589\n",
       "Younger parent with high income                 293591\n",
       "Head of household under 26 with low income      166019\n",
       "Head of household under 26 with high income      16866\n",
       "Single younger adult with low income               361\n",
       "Name: count, dtype: int64"
      ]
     },
     "execution_count": 92,
     "metadata": {},
     "output_type": "execute_result"
    }
   ],
   "source": [
    "# Check value counts\n",
    "df_all['customer_profile'].value_counts(dropna = False)"
   ]
  },
  {
   "cell_type": "markdown",
   "id": "4bb5a217",
   "metadata": {},
   "source": [
    "# 3. Drop unnecessary columns"
   ]
  },
  {
   "cell_type": "code",
   "execution_count": 93,
   "id": "1fbb3e6e",
   "metadata": {},
   "outputs": [],
   "source": [
    "# Drop unnecessary column\n",
    "df_all = df_all.drop ('income_class_and_age', axis = 1)"
   ]
  },
  {
   "cell_type": "code",
   "execution_count": 94,
   "id": "16f9d0af",
   "metadata": {},
   "outputs": [
    {
     "data": {
      "text/plain": [
       "(30992664, 32)"
      ]
     },
     "execution_count": 94,
     "metadata": {},
     "output_type": "execute_result"
    }
   ],
   "source": [
    "# Check shape\n",
    "df_all.shape"
   ]
  },
  {
   "cell_type": "markdown",
   "id": "a4ba54c6",
   "metadata": {},
   "source": [
    "# 4. Export data"
   ]
  },
  {
   "cell_type": "code",
   "execution_count": 95,
   "id": "187ec304",
   "metadata": {},
   "outputs": [],
   "source": [
    "# Export df_all as pikle format\n",
    "df_all.to_pickle(os.path.join(path, '02 Data','Prepared Data', 'instacart_customer_profile.pkl'))"
   ]
  }
 ],
 "metadata": {
  "kernelspec": {
   "display_name": "Python 3 (ipykernel)",
   "language": "python",
   "name": "python3"
  },
  "language_info": {
   "codemirror_mode": {
    "name": "ipython",
    "version": 3
   },
   "file_extension": ".py",
   "mimetype": "text/x-python",
   "name": "python",
   "nbconvert_exporter": "python",
   "pygments_lexer": "ipython3",
   "version": "3.11.4"
  }
 },
 "nbformat": 4,
 "nbformat_minor": 5
}
